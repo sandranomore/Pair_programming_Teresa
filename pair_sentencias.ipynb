{
 "cells": [
  {
   "cell_type": "markdown",
   "metadata": {},
   "source": [
    "Verificar si un número es positivo, negativo o cero\n",
    "Descripción: Dado un número, verifica si es positivo, negativo o cero"
   ]
  },
  {
   "cell_type": "code",
   "execution_count": 11,
   "metadata": {},
   "outputs": [
    {
     "name": "stdout",
     "output_type": "stream",
     "text": [
      "Es un número negativo\n"
     ]
    }
   ],
   "source": [
    "número =int(input(\"Dime un número: \"))\n",
    "if número < 0:\n",
    "    print(\"Es un número negativo\")\n",
    "elif número == 0:\n",
    "    print(\"Es cero\")\n",
    "elif número >= 1:\n",
    "    print(\"Es un número positivo\")\n",
    "\n"
   ]
  },
  {
   "cell_type": "markdown",
   "metadata": {},
   "source": [
    "Verificar si un número es par o impar\n",
    "Descripción: Dado un número, verifica si es par o impar."
   ]
  },
  {
   "cell_type": "code",
   "execution_count": null,
   "metadata": {},
   "outputs": [],
   "source": [
    "def verificar_par_impar(numero):\n",
    "    if numero % 2 == 0:\n",
    "        return \"par\"\n",
    "    else:\n",
    "        return \"impar\"\n",
    "\n",
    "# Solicitar al usuario que ingrese un número\n",
    "numero = int(input(\"Por favor, ingresa un número: \"))\n",
    "\n",
    "# Verificar si el número es par o impar\n",
    "resultado = verificar_par_impar(numero)\n",
    "print(f\"El número {numero} es {resultado}.\")\n"
   ]
  },
  {
   "cell_type": "markdown",
   "metadata": {},
   "source": [
    "Verificar si un estudiante aprobó o suspendió un examen\n",
    "Descripción: Dada la calificación de un estudiante en un examen, verifica si aprobó o suspendió (si la calificación es mayor o igual a 60 se considera aprobado)."
   ]
  },
  {
   "cell_type": "code",
   "execution_count": null,
   "metadata": {},
   "outputs": [],
   "source": [
    "def verificar_aprobacion(calificacion):\n",
    "    if calificacion >= 60:\n",
    "        return \"aprobado\"\n",
    "    else:\n",
    "        return \"suspendido\"\n",
    "\n",
    "# Solicitar al usuario que ingrese la calificación del estudiante\n",
    "calificacion = float(input(\"Por favor, ingresa la calificación del estudiante: \"))\n",
    "\n",
    "# Verificar si el estudiante aprobó o suspendió el examen\n",
    "resultado = verificar_aprobacion(calificacion)\n",
    "print(f\"El estudiante está {resultado}.\")\n"
   ]
  },
  {
   "cell_type": "markdown",
   "metadata": {},
   "source": [
    "Calcular el máximo entre dos números\n",
    "Descripción: Dados dos números, encuentra el máximo entre ellos."
   ]
  },
  {
   "cell_type": "code",
   "execution_count": null,
   "metadata": {},
   "outputs": [],
   "source": [
    "def encontrar_maximo(num1, num2):\n",
    "    if num1 > num2:\n",
    "        return num1\n",
    "    else:\n",
    "        return num2\n",
    "\n",
    "# Solicitar al usuario que ingrese dos números\n",
    "numero1 = float(input(\"Por favor, ingresa el primer número: \"))\n",
    "numero2 = float(input(\"Por favor, ingresa el segundo número: \"))\n",
    "\n",
    "# Encontrar el máximo entre los dos números\n",
    "maximo = encontrar_maximo(numero1, numero2)\n",
    "print(f\"El máximo entre {numero1} y {numero2} es: {maximo}\")\n"
   ]
  },
  {
   "cell_type": "markdown",
   "metadata": {},
   "source": [
    "Verificar si una letra es una vocal o una consonante\n",
    "Descripción: Dada una letra, verifica si es una vocal o una consonante."
   ]
  },
  {
   "cell_type": "code",
   "execution_count": null,
   "metadata": {},
   "outputs": [],
   "source": [
    "def verificar_vocal_o_consonante(letra):\n",
    "    vocales = \"aeiouAEIOU\"\n",
    "    if letra in vocales:\n",
    "        return \"vocal\"\n",
    "    else:\n",
    "        return \"consonante\"\n",
    "\n",
    "# Solicitar al usuario que ingrese una letra\n",
    "letra = input(\"Por favor, ingresa una letra: \")\n",
    "\n",
    "# Verificar si la letra es una vocal o una consonante\n",
    "resultado = verificar_vocal_o_consonante(letra)\n",
    "print(f\"La letra '{letra}' es una {resultado}.\")\n"
   ]
  },
  {
   "cell_type": "markdown",
   "metadata": {},
   "source": [
    "Calcular el descuento en una compra según el monto total\n",
    "Descripción: Dado el monto total de una compra, calcula el descuento aplicado según las siguientes condiciones: si el monto es mayor o igual a $100, aplica un descuento del 10%; de lo contrario, no aplica ningún descuento."
   ]
  },
  {
   "cell_type": "code",
   "execution_count": null,
   "metadata": {},
   "outputs": [],
   "source": [
    "def calcular_descuento(monto_total):\n",
    "    if monto_total >= 100:\n",
    "        descuento = monto_total * 0.10\n",
    "    else:\n",
    "        descuento = 0\n",
    "    return descuento\n",
    "\n",
    "# Solicitar al usuario que ingrese el monto total de la compra\n",
    "monto_total = float(input(\"Por favor, ingresa el monto total de la compra: $\"))\n",
    "\n",
    "# Calcular el descuento\n",
    "descuento = calcular_descuento(monto_total)\n",
    "\n",
    "# Mostrar el descuento aplicado\n",
    "if descuento > 0:\n",
    "    print(f\"Se aplicó un descuento del 10%: ${descuento}\")\n",
    "else:\n",
    "    print(\"No se aplicó ningún descuento.\")\n"
   ]
  },
  {
   "cell_type": "markdown",
   "metadata": {},
   "source": [
    "Verificar si un año es bisiesto o no\n",
    "Descripción: Dado un año, verifica si es bisiesto o no (un año es bisiesto si es divisible entre 4, excepto aquellos divisibles entre 100 pero no entre 400)."
   ]
  },
  {
   "cell_type": "code",
   "execution_count": null,
   "metadata": {},
   "outputs": [],
   "source": [
    "def es_bisiesto(year):\n",
    "    if year % 4 == 0:\n",
    "        if year % 100 == 0:\n",
    "            if year % 400 == 0:\n",
    "                return True\n",
    "            else:\n",
    "                return False\n",
    "        else:\n",
    "            return True\n",
    "    else:\n",
    "        return False\n",
    "\n",
    "# Solicitar al usuario que ingrese un año\n",
    "year = int(input(\"Por favor, ingresa un año: \"))\n",
    "\n",
    "# Verificar si el año es bisiesto\n",
    "if es_bisiesto(year):\n",
    "    print(f\"{year} es un año bisiesto.\")\n",
    "else:\n",
    "    print(f\"{year} no es un año bisiesto.\")\n"
   ]
  },
  {
   "cell_type": "markdown",
   "metadata": {},
   "source": [
    "Asignar una categoría a una edad\n",
    "Descripción: Dada una edad, asigna una categoría según las siguientes condiciones: si la edad es menor de 18, la categoría es \"Menor de edad\"; si la edad está entre 18 y 64 (incluyendo ambos), la categoría es \"Adulto\"; de lo contrario, la categoría es \"Adulto mayor\"."
   ]
  },
  {
   "cell_type": "code",
   "execution_count": 5,
   "metadata": {},
   "outputs": [
    {
     "name": "stdout",
     "output_type": "stream",
     "text": [
      "Eres demasiado adulto\n"
     ]
    }
   ],
   "source": [
    "años =int(input(\"¿Cuantos años tienes\"))\n",
    "if años < 18:\n",
    "    print(\"Eres menor de edad\")\n",
    "elif años >= 18 and años <= 65:\n",
    "    print(\"Eres adulto\")\n",
    "elif años > 65:\n",
    "    print(\"Eres demasiado adulto\")   \n",
    "else:\n",
    "    print(\"Por favor añade tu edad en numero\")"
   ]
  },
  {
   "cell_type": "markdown",
   "metadata": {},
   "source": [
    "Verificar si tres números forman un triángulo rectángulo\n",
    "Descripción: Dados tres números, verifica si forman un triángulo rectángulo (si se cumple el teorema de Pitágoras)."
   ]
  },
  {
   "cell_type": "code",
   "execution_count": null,
   "metadata": {},
   "outputs": [],
   "source": [
    "def es_triangulo_rectangulo(a, b, c):\n",
    "    # Ordenar los lados de menor a mayor\n",
    "    lados = sorted([a, b, c])\n",
    "    # Verificar si se cumple el teorema de Pitágoras\n",
    "    if lados[0] ** 2 + lados[1] ** 2 == lados[2] ** 2:\n",
    "        return True\n",
    "    else:\n",
    "        return False\n",
    "\n",
    "# Solicitar al usuario que ingrese los tres lados del triángulo\n",
    "a = float(input(\"Ingrese la longitud del primer lado: \"))\n",
    "b = float(input(\"Ingrese la longitud del segundo lado: \"))\n",
    "c = float(input(\"Ingrese la longitud del tercer lado: \"))\n",
    "\n",
    "# Verificar si los lados forman un triángulo rectángulo\n",
    "if es_triangulo_rectangulo(a, b, c):\n",
    "    print(\"Los tres lados forman un triángulo rectángulo.\")\n",
    "else:\n",
    "    print(\"Los tres lados no forman un triángulo rectángulo.\")\n"
   ]
  },
  {
   "cell_type": "markdown",
   "metadata": {},
   "source": [
    "Asignar una calificación a una puntuación\n",
    "Descripción: Dada una puntuación, asigna una calificación según las siguientes condiciones: si la puntuación es mayor o igual a 90, la calificación es \"A\"; si es mayor o igual a 80, la calificación es \"B\"; si es mayor o igual a 70, la calificación es \"C\"; si es mayor o igual a 60, la calificación es \"D\"; de lo contrario, la calificación es \"F\"."
   ]
  },
  {
   "cell_type": "code",
   "execution_count": null,
   "metadata": {},
   "outputs": [],
   "source": [
    "def asignar_calificacion(puntuacion):\n",
    "    if puntuacion >= 90:\n",
    "        calificacion = \"A\"\n",
    "    elif puntuacion >= 80:\n",
    "        calificacion = \"B\"\n",
    "    elif puntuacion >= 70:\n",
    "        calificacion = \"C\"\n",
    "    elif puntuacion >= 60:\n",
    "        calificacion = \"D\"\n",
    "    else:\n",
    "        calificacion = \"F\"\n",
    "    return calificacion\n",
    "\n",
    "# Solicitar al usuario que ingrese la puntuación\n",
    "puntuacion = float(input(\"Por favor, ingresa la puntuación: \"))\n",
    "\n",
    "# Asignar la calificación\n",
    "calificacion = asignar_calificacion(puntuacion)\n",
    "\n",
    "# Mostrar la calificación asignada\n",
    "print(f\"La calificación asignada para una puntuación de {puntuacion} es: {calificacion}\")\n"
   ]
  },
  {
   "cell_type": "markdown",
   "metadata": {},
   "source": [
    "Calcular el índice de masa corporal (IMC) y categorizarlo\n",
    "Descripción: Dados el peso (en kg) y la altura (en metros) de una persona, calcula su IMC y categorízalo según las siguientes condiciones: si el IMC es menor a 18.5, es \"Bajo peso\"; si está entre 18.5 y 24.9 (inclusive), es \"Peso normal\"; si está entre 25 y 29.9 (inclusive), es \"Sobrepeso\"; de lo contrario, es \"Obesidad\""
   ]
  },
  {
   "cell_type": "code",
   "execution_count": 14,
   "metadata": {},
   "outputs": [
    {
     "name": "stdout",
     "output_type": "stream",
     "text": [
      "Tu IMC es: 0.00\n",
      "Según tu IMC, tienes: Bajo peso\n"
     ]
    }
   ],
   "source": [
    "def calcular_imc(peso, altura):\n",
    "    return peso / (altura ** 2)\n",
    "\n",
    "def categorizar_imc(imc):\n",
    "    if imc < 18.5:\n",
    "        categoria = \"Bajo peso\"\n",
    "    elif imc >= 18.5 and imc <= 24.9:\n",
    "        categoria = \"Peso normal\"\n",
    "    elif imc >= 25 and imc <= 29.9:\n",
    "        categoria = \"Sobrepeso\"\n",
    "    else:\n",
    "        categoria = \"Obesidad\"\n",
    "    return categoria\n",
    "\n",
    "# Solicitar al usuario que ingrese su peso (en kg) y altura (en metros)\n",
    "peso = float(input(\"Por favor, ingresa tu peso en kg: \"))\n",
    "altura = float(input(\"Por favor, ingresa tu altura en metros: \"))\n",
    "\n",
    "# Calcular el IMC\n",
    "imc = calcular_imc(peso, altura)\n",
    "\n",
    "# Categorizar el IMC\n",
    "categoria_imc = categorizar_imc(imc)\n",
    "\n",
    "# Mostrar el IMC y su categoría\n",
    "print(f\"Tu IMC es: {imc:.2f}\")\n",
    "print(f\"Según tu IMC, tienes: {categoria_imc}\")\n",
    "\n"
   ]
  },
  {
   "cell_type": "markdown",
   "metadata": {},
   "source": [
    "Calcular el mayor de tres números\n",
    "Descripción: Dados tres números, encuentra el mayor entre ellos."
   ]
  },
  {
   "cell_type": "code",
   "execution_count": 13,
   "metadata": {},
   "outputs": [
    {
     "name": "stdout",
     "output_type": "stream",
     "text": [
      "El mayor entre 4.0, 3.0 y 4.0 es: 4.0\n"
     ]
    }
   ],
   "source": [
    "def encontrar_mayor(num1, num2, num3):\n",
    "    if num1 >= num2 and num1 >= num3:\n",
    "        return num1\n",
    "    elif num2 >= num1 and num2 >= num3:\n",
    "        return num2\n",
    "    else:\n",
    "        return num3\n",
    "\n",
    "# Solicitar al usuario que ingrese tres números\n",
    "num1 = float(input(\"Por favor, ingresa el primer número: \"))\n",
    "num2 = float(input(\"Por favor, ingresa el segundo número: \"))\n",
    "num3 = float(input(\"Por favor, ingresa el tercer número: \"))\n",
    "\n",
    "# Encontrar el mayor entre los tres números\n",
    "mayor = encontrar_mayor(num1, num2, num3)\n",
    "print(f\"El mayor entre {num1}, {num2} y {num3} es: {mayor}\")\n"
   ]
  },
  {
   "cell_type": "markdown",
   "metadata": {},
   "source": [
    "BONUS sentencias de control: Verificar la validez de una fecha\n",
    "Descripción: Dados el día, el mes y el año de una fecha, verifica si la fecha es válida."
   ]
  },
  {
   "cell_type": "code",
   "execution_count": 12,
   "metadata": {},
   "outputs": [
    {
     "name": "stdout",
     "output_type": "stream",
     "text": [
      "La fecha ingresada es válida.\n"
     ]
    }
   ],
   "source": [
    "def es_bisiesto(year):\n",
    "    if year % 4 == 0:\n",
    "        if year % 100 == 0:\n",
    "            if year % 400 == 0:\n",
    "                return True\n",
    "            else:\n",
    "                return False\n",
    "        else:\n",
    "            return True\n",
    "    else:\n",
    "        return False\n",
    "\n",
    "def es_fecha_valida(dia, mes, year):\n",
    "    if mes < 1 or mes > 12:\n",
    "        return False\n",
    "\n",
    "    dias_por_mes = {\n",
    "        1: 31,  # Enero\n",
    "        2: 29 if es_bisiesto(year) else 28,  # Febrero\n",
    "        3: 31,  # Marzo\n",
    "        4: 30,  # Abril\n",
    "        5: 31,  # Mayo\n",
    "        6: 30,  # Junio\n",
    "        7: 31,  # Julio\n",
    "        8: 31,  # Agosto\n",
    "        9: 30,  # Septiembre\n",
    "        10: 31,  # Octubre\n",
    "        11: 30,  # Noviembre\n",
    "        12: 31,  # Diciembre\n",
    "    }\n",
    "\n",
    "    if dia < 1 or dia > dias_por_mes[mes]:\n",
    "        return False\n",
    "\n",
    "    return True\n",
    "\n",
    "# Solicitar al usuario que ingrese la fecha\n",
    "dia = int(input(\"Por favor, ingresa el día: \"))\n",
    "mes = int(input(\"Por favor, ingresa el mes: \"))\n",
    "year = int(input(\"Por favor, ingresa el año: \"))\n",
    "\n",
    "# Verificar si la fecha es válida\n",
    "if es_fecha_valida(dia, mes, year):\n",
    "    print(\"La fecha ingresada es válida.\")\n",
    "else:\n",
    "    print(\"La fecha ingresada no es válida.\")\n"
   ]
  }
 ],
 "metadata": {
  "kernelspec": {
   "display_name": "base",
   "language": "python",
   "name": "python3"
  },
  "language_info": {
   "codemirror_mode": {
    "name": "ipython",
    "version": 3
   },
   "file_extension": ".py",
   "mimetype": "text/x-python",
   "name": "python",
   "nbconvert_exporter": "python",
   "pygments_lexer": "ipython3",
   "version": "3.9.7"
  }
 },
 "nbformat": 4,
 "nbformat_minor": 2
}
