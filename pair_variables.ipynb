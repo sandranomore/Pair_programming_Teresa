{
 "cells": [
  {
   "cell_type": "code",
   "execution_count": 9,
   "metadata": {},
   "outputs": [
    {
     "name": "stdout",
     "output_type": "stream",
     "text": [
      "6\n"
     ]
    }
   ],
   "source": [
    "gato = 6\n",
    "print (gato)\n",
    "\n"
   ]
  },
  {
   "cell_type": "code",
   "execution_count": 9,
   "metadata": {},
   "outputs": [
    {
     "name": "stdout",
     "output_type": "stream",
     "text": [
      "1\n",
      "2\n",
      "3\n"
     ]
    }
   ],
   "source": [
    "#Creación de variables\n",
    "número1 = 1\n",
    "número2 = 2\n",
    "número3 = 3\n",
    "print(número1)\n",
    "print(número2)\n",
    "print(número3)\n"
   ]
  },
  {
   "cell_type": "code",
   "execution_count": 10,
   "metadata": {},
   "outputs": [
    {
     "name": "stdout",
     "output_type": "stream",
     "text": [
      "False\n",
      "True\n",
      "False\n",
      "False\n",
      "True\n"
     ]
    }
   ],
   "source": [
    "#operadores lógicos\n",
    "print(1 > 2)\n",
    "print(1 < 2)\n",
    "print(1 > 3)\n",
    "print(3 == 2)\n",
    "print(2 != 1)\n"
   ]
  },
  {
   "cell_type": "code",
   "execution_count": 23,
   "metadata": {},
   "outputs": [
    {
     "name": "stdout",
     "output_type": "stream",
     "text": [
      "8.6\n",
      "1.5999999999999996\n",
      "1.457142857142857\n",
      "1.0\n"
     ]
    }
   ],
   "source": [
    "#variables numéricas\n",
    "altura1 = 5.10\n",
    "altura2 = 3.5\n",
    "print (altura1 + altura2)\n",
    "print (altura1 - altura2)\n",
    "print (altura1 / altura2)\n",
    "print (altura1 // altura2)\n",
    "\n"
   ]
  },
  {
   "cell_type": "code",
   "execution_count": 4,
   "metadata": {},
   "outputs": [
    {
     "name": "stdout",
     "output_type": "stream",
     "text": [
      "Su nombre es,\n"
     ]
    }
   ],
   "source": [
    "# input\n",
    "nombre2 = input()\n",
    "print(f\"Su nombre es,{nombre2}\")"
   ]
  },
  {
   "cell_type": "code",
   "execution_count": 10,
   "metadata": {},
   "outputs": [
    {
     "name": "stdout",
     "output_type": "stream",
     "text": [
      "\n",
      "¿Cómo te llamas?\n"
     ]
    }
   ],
   "source": [
    "# preguntas\n",
    "nombre2 = input()\n",
    "print(nombre2)\n",
    "\n",
    "nombre2 = input()\n",
    "print (f\"¿Cómo te llamas?\")\n",
    "\n",
    "# poner la frase con la vocal en mayúscula\n",
    "\n"
   ]
  },
  {
   "cell_type": "code",
   "execution_count": 19,
   "metadata": {},
   "outputs": [
    {
     "name": "stdout",
     "output_type": "stream",
     "text": [
      "SANDRA\n",
      "MORENO\n",
      "sandra\n",
      "moreno\n",
      "Sandra\n",
      "Moreno\n",
      "SANDRA\n",
      "moreno\n"
     ]
    }
   ],
   "source": [
    "# mayúsculas\n",
    "print(nombre.upper())\n",
    "print(apellido.upper ())\n",
    "\n",
    "# minúsculas\n",
    "print(nombre.lower())\n",
    "print(apellido.lower ())\n",
    "\n",
    "# primera letra mayúscula\n",
    "print(nombre.capitalize())\n",
    "print(apellido.capitalize ())\n",
    "\n",
    "# nombre en mayúscula\n",
    "print(nombre.upper())\n",
    "print(apellido.lower ())\n"
   ]
  }
 ],
 "metadata": {
  "kernelspec": {
   "display_name": "base",
   "language": "python",
   "name": "python3"
  },
  "language_info": {
   "codemirror_mode": {
    "name": "ipython",
    "version": 3
   },
   "file_extension": ".py",
   "mimetype": "text/x-python",
   "name": "python",
   "nbconvert_exporter": "python",
   "pygments_lexer": "ipython3",
   "version": "3.9.7"
  }
 },
 "nbformat": 4,
 "nbformat_minor": 2
}
