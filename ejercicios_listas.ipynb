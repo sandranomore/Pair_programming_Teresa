{
 "cells": [
  {
   "cell_type": "code",
   "execution_count": 53,
   "metadata": {},
   "outputs": [
    {
     "name": "stdout",
     "output_type": "stream",
     "text": [
      "['rojo', 'verde', 'azul', 'amarillo', 'morado', 'naranja']\n",
      "[7, 29, 3, 5]\n",
      "[19, 25, 33, 38]\n"
     ]
    }
   ],
   "source": [
    "#definir listas\n",
    "colores = [ \"rojo\", \"verde\", \"azul\", \"amarillo\", \"morado\", \"naranja\"]\n",
    "print(colores)\n",
    "\n",
    "bus = [7, 29, 3, 5]\n",
    "print(bus)\n",
    "\n",
    "temperaturas = [19, 25, 33, 38]\n",
    "print(temperaturas)"
   ]
  },
  {
   "cell_type": "code",
   "execution_count": 54,
   "metadata": {},
   "outputs": [
    {
     "name": "stdout",
     "output_type": "stream",
     "text": [
      "lista de colores: ['rojo', 'verde', 'azul', 'amarillo', 'morado', 'naranja']\n",
      "lista de bus: [7, 29, 3, 5]\n",
      "lista de temperaturas: [19, 25, 33, 38, 30]\n"
     ]
    }
   ],
   "source": [
    "#convertir a listas\n",
    "colores = [\"rojo\", \"verde\", \"azul\", \"amarillo\", \"morado\", \"naranja\"]\n",
    "print(\"lista de colores:\", colores)\n",
    "\n",
    "bus = [7, 29, 3, 5]\n",
    "print(\"lista de bus:\", bus)\n",
    "\n",
    "temperaturas = [19, 25, 33, 38, 30]\n",
    "print(\"lista de temperaturas:\", temperaturas)\n"
   ]
  },
  {
   "cell_type": "code",
   "execution_count": 55,
   "metadata": {},
   "outputs": [
    {
     "data": {
      "text/plain": [
       "['rojo', 'verde', 'azul', 'amarillo', 'morado', 'naranja']"
      ]
     },
     "execution_count": 55,
     "metadata": {},
     "output_type": "execute_result"
    }
   ],
   "source": [
    "lista_colores = [\"rojo\", \"verde\", \"azul\", \"amarillo\", \"morado\", \"naranja\"]\n",
    "list(colores)"
   ]
  },
  {
   "cell_type": "code",
   "execution_count": 56,
   "metadata": {},
   "outputs": [
    {
     "data": {
      "text/plain": [
       "[7, 29, 3, 5]"
      ]
     },
     "execution_count": 56,
     "metadata": {},
     "output_type": "execute_result"
    }
   ],
   "source": [
    "lista_bus = [7, 29, 3, 5]\n",
    "list(bus)"
   ]
  },
  {
   "cell_type": "code",
   "execution_count": 57,
   "metadata": {},
   "outputs": [
    {
     "data": {
      "text/plain": [
       "[19, 25, 33, 38, 30]"
      ]
     },
     "execution_count": 57,
     "metadata": {},
     "output_type": "execute_result"
    }
   ],
   "source": [
    "lista_temperaturas = [19, 25, 33, 38, 30]\n",
    "list(temperaturas)"
   ]
  },
  {
   "cell_type": "code",
   "execution_count": 58,
   "metadata": {},
   "outputs": [
    {
     "name": "stdout",
     "output_type": "stream",
     "text": [
      "El número de datos que tenemos en la lista de colores es: 4\n",
      "El número de datos que tenemos en la lista de bus es: 6\n",
      "La temperatura minima fue: 19\n",
      "La temperatura máxima fue: 38\n"
     ]
    }
   ],
   "source": [
    "#¿Cuántos buses pasan por tu casa?\n",
    "cantidad_de_bus = len(lista_bus)\n",
    "print(\"El número de datos que tenemos en la lista de colores es:\", cantidad_de_bus)\n",
    "\n",
    "#¿Cuántos colores te gustan?\n",
    "cantidad_de_colores = len(lista_colores)\n",
    "print(\"El número de datos que tenemos en la lista de bus es:\", cantidad_de_colores)\n",
    "\n",
    "#¿Cuáles son las temperaturas max y min para esta semana?\n",
    "minima = min(lista_temperaturas)\n",
    "maxima = max(lista_temperaturas)\n",
    "print(\"La temperatura minima fue:\", minima)\n",
    "print(\"La temperatura máxima fue:\", maxima)\n"
   ]
  },
  {
   "cell_type": "code",
   "execution_count": 59,
   "metadata": {},
   "outputs": [
    {
     "data": {
      "text/plain": [
       "False"
      ]
     },
     "execution_count": 59,
     "metadata": {},
     "output_type": "execute_result"
    }
   ],
   "source": [
    "#¿Hay un \"11\" en tu bus?\n",
    "\"e\" in bus"
   ]
  },
  {
   "cell_type": "code",
   "execution_count": 48,
   "metadata": {},
   "outputs": [
    {
     "data": {
      "text/plain": [
       "False"
      ]
     },
     "execution_count": 48,
     "metadata": {},
     "output_type": "execute_result"
    }
   ],
   "source": [
    "#¿Tiene una \"8\" en temperaturas?\n",
    "\"8\" in temperaturas"
   ]
  },
  {
   "cell_type": "code",
   "execution_count": 60,
   "metadata": {},
   "outputs": [
    {
     "data": {
      "text/plain": [
       "True"
      ]
     },
     "execution_count": 60,
     "metadata": {},
     "output_type": "execute_result"
    }
   ],
   "source": [
    "#¿No está el color rosa en la lista de colores?\n",
    "\"rosa\" not in colores"
   ]
  },
  {
   "cell_type": "code",
   "execution_count": 61,
   "metadata": {},
   "outputs": [
    {
     "data": {
      "text/plain": [
       "True"
      ]
     },
     "execution_count": 61,
     "metadata": {},
     "output_type": "execute_result"
    }
   ],
   "source": [
    "#¿No está el bus 6 en la lista de bus?\n",
    "\"6\" not in bus"
   ]
  },
  {
   "cell_type": "code",
   "execution_count": null,
   "metadata": {},
   "outputs": [],
   "source": [
    "#hacer copias y borra sus contenidos\n"
   ]
  },
  {
   "cell_type": "code",
   "execution_count": null,
   "metadata": {},
   "outputs": [],
   "source": [
    "#cambiar el orden de los contenidos"
   ]
  },
  {
   "cell_type": "code",
   "execution_count": null,
   "metadata": {},
   "outputs": [],
   "source": [
    "#contar duplicados"
   ]
  },
  {
   "cell_type": "code",
   "execution_count": null,
   "metadata": {},
   "outputs": [],
   "source": [
    "#definir otra lista"
   ]
  },
  {
   "cell_type": "code",
   "execution_count": null,
   "metadata": {},
   "outputs": [],
   "source": [
    "#Indexación de listas\n"
   ]
  },
  {
   "cell_type": "code",
   "execution_count": null,
   "metadata": {},
   "outputs": [],
   "source": [
    "#ampliar una lista, si quieres añadir elementos hay q crear otra lista y unir listas\n",
    "lista1.extend(25, 30)\n",
    "\n"
   ]
  },
  {
   "cell_type": "code",
   "execution_count": null,
   "metadata": {},
   "outputs": [],
   "source": [
    "#apend te hace una lista dentro de otra lista\n",
    "lista1.append (lista2)\n",
    "\n",
    "·extend\n",
    "lista1extend(lista2)\n",
    "\n",
    "#poner al revés una lista\n",
    "lista1.reverse()\n",
    "print(lista1)\n",
    "\n",
    "#eliminar, remove y pop\n",
    "lista1.remove[(15,20)]\n",
    "\n",
    "lista1.pop(2)\n",
    "\n",
    "#ordenar elementos de una lista\n",
    "lista1.sort()\n",
    "\n",
    "sorted(lista5)\n",
    "\n",
    "#copiar listas\n",
    "lista6 = lista5.copy()\n",
    "print(lista5)\n",
    "print(lista6)\n",
    "\n",
    "#eliminar\n",
    "lista5.remove (\"amarillo\")\n",
    "\n",
    "\n"
   ]
  },
  {
   "cell_type": "code",
   "execution_count": null,
   "metadata": {},
   "outputs": [],
   "source": [
    "#TUPLA\n",
    "\n",
    "#zip crea parejas, fusiona las listas\n",
    "tupla3 = list(zip(tupla1, tupla2))\n",
    "tupla3\n",
    "\n"
   ]
  }
 ],
 "metadata": {
  "kernelspec": {
   "display_name": "base",
   "language": "python",
   "name": "python3"
  },
  "language_info": {
   "codemirror_mode": {
    "name": "ipython",
    "version": 3
   },
   "file_extension": ".py",
   "mimetype": "text/x-python",
   "name": "python",
   "nbconvert_exporter": "python",
   "pygments_lexer": "ipython3",
   "version": "3.9.7"
  }
 },
 "nbformat": 4,
 "nbformat_minor": 2
}
