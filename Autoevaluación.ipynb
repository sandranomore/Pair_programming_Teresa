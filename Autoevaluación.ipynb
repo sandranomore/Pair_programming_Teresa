{
 "cells": [
  {
   "cell_type": "markdown",
   "metadata": {},
   "source": [
    "Parte 1: Strings\n",
    "\n",
    "Dada una cadena de texto, contar cuántas veces aparece una letra específica en ella. Usa\n",
    "un input para que el usuario elija la letra a buscar.\n"
   ]
  },
  {
   "cell_type": "code",
   "execution_count": 5,
   "metadata": {},
   "outputs": [
    {
     "name": "stdout",
     "output_type": "stream",
     "text": [
      "La letra 'e' aparece 4 veces en la cadena.\n"
     ]
    }
   ],
   "source": [
    "texto = \"Python es un lenguaje de programación muy popular\"\n",
    "\n",
    "# Solicitar al usuario que ingrese la letra que desea buscar\n",
    "letra = input(\"Por favor, ingresa la letra que deseas buscar en la siguiente frase. Python es un lenguaje de programación muy popular: \" )\n",
    "\n",
    "# Contar cuántas veces aparece la letra en la cadena\n",
    "contador = texto.count(letra)\n",
    "\n",
    "# Mostrar el resultado al usuario\n",
    "print(f\"La letra '{letra}' aparece {contador} veces en la cadena.\")\n",
    "\n"
   ]
  },
  {
   "cell_type": "markdown",
   "metadata": {},
   "source": [
    "2. Escribe un programa que tome la siguiente cadena de texto y reemplace una palabra\n",
    "específica por otra palabra. La palabra a reemplazar y reemplazada deben ser elegidas\n",
    "por el usuario.\n",
    "cadena = \"Python es genial. Python es fácil de aprender.\""
   ]
  },
  {
   "cell_type": "code",
   "execution_count": 7,
   "metadata": {},
   "outputs": [
    {
     "name": "stdout",
     "output_type": "stream",
     "text": [
      "Texto original: Python es un lenguaje de programación muy popular\n",
      "Texto modificado: Python hola un lenguaje de programación muy popular\n"
     ]
    }
   ],
   "source": [
    "texto = \"Python es un lenguaje de programación muy popular\"\n",
    "\n",
    "# Solicitar al usuario que ingrese la palabra a reemplazar\n",
    "palabra_a_reemplazar = input(\"Por favor, ingresa la palabra que deseas reemplazar en la siguiente frase, Python es un lenguaje de programación muy popular: \")\n",
    "\n",
    "# Solicitar al usuario que ingrese la palabra de reemplazo\n",
    "palabra_de_reemplazo = input(\"Por favor, ingresa la palabra con la que deseas reemplazarla: \")\n",
    "\n",
    "# Realizar el reemplazo en la cadena de texto\n",
    "texto_modificado = texto.replace(palabra_a_reemplazar, palabra_de_reemplazo)\n",
    "\n",
    "# Mostrar el texto modificado al usuario\n",
    "print(\"Texto original:\", texto)\n",
    "print(\"Texto modificado:\", texto_modificado)\n"
   ]
  },
  {
   "cell_type": "markdown",
   "metadata": {},
   "source": [
    "3. Toma la siguiente oración y divídela en una lista de palabras. Luego, únelas nuevamente\n",
    "en una sola cadena de texto.\n",
    "oracion = \"Esto es una oración de ejemplo\""
   ]
  },
  {
   "cell_type": "code",
   "execution_count": 8,
   "metadata": {},
   "outputs": [
    {
     "name": "stdout",
     "output_type": "stream",
     "text": [
      "Lista de palabras: ['Esto', 'es', 'una', 'oración', 'de', 'ejemplo']\n",
      "Cadena unida: Esto es una oración de ejemplo\n"
     ]
    }
   ],
   "source": [
    "# Definir la oración\n",
    "oracion = \"Esto es una oración de ejemplo\"\n",
    "\n",
    "# Dividir la oración en una lista de palabras\n",
    "lista_palabras = oracion.split()\n",
    "\n",
    "# Unir las palabras en una sola cadena de texto\n",
    "cadena_unida = \" \".join(lista_palabras)\n",
    "\n",
    "# Mostrar la lista de palabras y la cadena unida\n",
    "print(\"Lista de palabras:\", lista_palabras)\n",
    "print(\"Cadena unida:\", cadena_unida)\n"
   ]
  },
  {
   "cell_type": "markdown",
   "metadata": {},
   "source": [
    "4. Desarrolla un programa que cuente cuántas palabras hay en la siguiente frase.\n",
    "cadena = \"Esta es una cadena con cinco palabras\""
   ]
  },
  {
   "cell_type": "code",
   "execution_count": 9,
   "metadata": {},
   "outputs": [
    {
     "name": "stdout",
     "output_type": "stream",
     "text": [
      "La frase tiene 7 palabras.\n"
     ]
    }
   ],
   "source": [
    "# Definir la frase\n",
    "frase = \"Esto es una cadena con cinco palabras.\"\n",
    "\n",
    "# Dividir la frase en una lista de palabras\n",
    "lista_palabras = frase.split()\n",
    "\n",
    "# Contar el número de palabras\n",
    "numero_palabras = len(lista_palabras)\n",
    "\n",
    "# Mostrar el resultado\n",
    "print(\"La frase tiene\", numero_palabras, \"palabras.\")\n"
   ]
  },
  {
   "cell_type": "markdown",
   "metadata": {},
   "source": [
    "5. Escribe un programa que invierta una cadena de texto dada por un usuario. Mira el siguiente ejemplo para entender lo que se pide:\n",
    "# input\n",
    "\"Hola buenos dias\"\n",
    "# output\n",
    "\"dias buenos Hola"
   ]
  },
  {
   "cell_type": "code",
   "execution_count": 15,
   "metadata": {},
   "outputs": [
    {
     "name": "stdout",
     "output_type": "stream",
     "text": [
      "Cadena origina: hola soy sandra\n",
      "Cadena invertida por palabras: sandra soy hola\n"
     ]
    }
   ],
   "source": [
    "# Solicitar al usuario que ingrese una cadena de texto\n",
    "cadena_original = input(\"Por favor, ingresa una frase: \")\n",
    "\n",
    "# Dividir la cadena en una lista de palabras\n",
    "lista_palabras = cadena_original.split()\n",
    "\n",
    "# Invertir el orden de la lista de palabras\n",
    "lista_palabras_invertida = lista_palabras[::-1]\n",
    "\n",
    "# Unir las palabras nuevamente en una cadena invertida\n",
    "cadena_invertida = \" \".join(lista_palabras_invertida)\n",
    "\n",
    "# Mostrar la cadena invertida al usuario\n",
    "print(\"Cadena origina:\", cadena_original)\n",
    "print(\"Cadena invertida por palabras:\", cadena_invertida)\n"
   ]
  },
  {
   "cell_type": "markdown",
   "metadata": {},
   "source": [
    "6. Crea un programa que busque una palabra específica(elegida por la usuaria) en una\n",
    "cadena de texto e indique su posición."
   ]
  },
  {
   "cell_type": "code",
   "execution_count": 18,
   "metadata": {},
   "outputs": [
    {
     "name": "stdout",
     "output_type": "stream",
     "text": [
      "La palabra 'frio' se encuentra en la posición 4 en la cadena de texto.\n"
     ]
    }
   ],
   "source": [
    "cadena_texto = \"Hoy hace mucho frio en Madrid.\"\n",
    "\n",
    "# Solicitar al usuario que ingrese la palabra a buscar\n",
    "palabra_buscar = input(\"Por favor, ingresa la palabra que deseas buscar en la siguiente frase, hoy hace mucho frio en Madrid: \")\n",
    "\n",
    "# Dividir la cadena de texto en una lista de palabras\n",
    "lista_palabras = cadena_texto.split()\n",
    "\n",
    "# Inicializar una variable para almacenar la posición de la palabra (si se encuentra)\n",
    "posicion = None\n",
    "\n",
    "# Buscar la palabra en la lista de palabras\n",
    "for i, palabra in enumerate(lista_palabras):\n",
    "    if palabra == palabra_buscar:\n",
    "        posicion = i + 1  # Sumar 1 para hacer que la posición sea legible para el usuario\n",
    "        break\n",
    "\n",
    "# Mostrar el resultado\n",
    "if posicion is not None:\n",
    "    print(f\"La palabra '{palabra_buscar}' se encuentra en la posición {posicion} en la cadena de texto.\")\n",
    "else:\n",
    "    print(f\"La palabra '{palabra_buscar}' no se encontró en la cadena de texto.\")\n"
   ]
  },
  {
   "cell_type": "markdown",
   "metadata": {},
   "source": [
    "Parte 2: Listas\n",
    "1. Dada la siguiente lista: frutas = ['manzana', 'pera', 'banana', 'uva', 'kiwi'],\n",
    "realiza lo siguiente:\n",
    "a) Reemplaza el segundo elemento con 'durazno'.\n",
    "b) Agrega 'naranja' al final de la lista.\n",
    "c) Extrae y muestra por pantalla el tercer elemento de la lista."
   ]
  },
  {
   "cell_type": "code",
   "execution_count": 228,
   "metadata": {},
   "outputs": [],
   "source": [
    "frutas = ['manzana', 'pera', 'banana', 'uva', 'kiwi']"
   ]
  },
  {
   "cell_type": "code",
   "execution_count": 229,
   "metadata": {},
   "outputs": [
    {
     "name": "stdout",
     "output_type": "stream",
     "text": [
      "['manzana', 'banana', 'uva', 'kiwi']\n"
     ]
    }
   ],
   "source": [
    "frutas.pop(1)\n",
    "print(frutas)"
   ]
  },
  {
   "cell_type": "code",
   "execution_count": 230,
   "metadata": {},
   "outputs": [
    {
     "name": "stdout",
     "output_type": "stream",
     "text": [
      "['manzana', 'durazno', 'banana', 'uva', 'kiwi']\n"
     ]
    }
   ],
   "source": [
    "frutas.insert(1,'durazno')\n",
    "print(frutas)"
   ]
  },
  {
   "cell_type": "code",
   "execution_count": 231,
   "metadata": {},
   "outputs": [
    {
     "name": "stdout",
     "output_type": "stream",
     "text": [
      "['manzana', 'durazno', 'uva', 'kiwi']\n"
     ]
    }
   ],
   "source": [
    "frutas.pop(2)\n",
    "print(frutas)"
   ]
  },
  {
   "cell_type": "code",
   "execution_count": 232,
   "metadata": {},
   "outputs": [
    {
     "name": "stdout",
     "output_type": "stream",
     "text": [
      "['manzana', 'durazno', 'uva', 'kiwi', 'naranja']\n"
     ]
    }
   ],
   "source": [
    "frutas.append(\"naranja\")\n",
    "print(frutas)"
   ]
  },
  {
   "cell_type": "code",
   "execution_count": 233,
   "metadata": {},
   "outputs": [
    {
     "data": {
      "text/plain": [
       "'uva'"
      ]
     },
     "execution_count": 233,
     "metadata": {},
     "output_type": "execute_result"
    }
   ],
   "source": [
    "frutas[2]"
   ]
  },
  {
   "cell_type": "markdown",
   "metadata": {},
   "source": [
    "2. Crea una lista llamada numeros que contenga los siguientes valores: 10, 25, 15, 30, 20."
   ]
  },
  {
   "cell_type": "code",
   "execution_count": 234,
   "metadata": {},
   "outputs": [],
   "source": [
    "numeros = [10, 25, 15, 30, 20]"
   ]
  },
  {
   "cell_type": "markdown",
   "metadata": {},
   "source": [
    "3. Agrega el valor 35 al incio de la lista numeros."
   ]
  },
  {
   "cell_type": "code",
   "execution_count": 235,
   "metadata": {},
   "outputs": [
    {
     "name": "stdout",
     "output_type": "stream",
     "text": [
      "[10, 25, 15, 30, 20, 35]\n"
     ]
    }
   ],
   "source": [
    "numeros.append(35)\n",
    "print(numeros)"
   ]
  },
  {
   "cell_type": "markdown",
   "metadata": {},
   "source": [
    "4. Ordena la lista numeros en orden ascendente."
   ]
  },
  {
   "cell_type": "code",
   "execution_count": 236,
   "metadata": {},
   "outputs": [
    {
     "name": "stdout",
     "output_type": "stream",
     "text": [
      "[10, 15, 20, 25, 30, 35]\n"
     ]
    }
   ],
   "source": [
    "numeros.sort()\n",
    "print(numeros)"
   ]
  },
  {
   "cell_type": "markdown",
   "metadata": {},
   "source": [
    "5. Dada la siguiente lista numeros2 = [45, 22, 19, 38, 29]. Crea una nueva lista llamada\n",
    "numeros3 donde tengamos la unión de los todos los elementos de las dos listas (numeros\n",
    "y numeros2) de tal forma que el resultado final sea:\n",
    "numeros3 = [10, 25, 15, 30, 20, 45, 22, 19, 38, 29]"
   ]
  },
  {
   "cell_type": "code",
   "execution_count": 237,
   "metadata": {},
   "outputs": [
    {
     "name": "stdout",
     "output_type": "stream",
     "text": [
      "[10, 15, 20, 25, 30, 35, 45, 22, 19, 38, 29]\n"
     ]
    }
   ],
   "source": [
    "numeros2 = [45, 22, 19, 38, 29]\n",
    "\n",
    "numeros3 = numeros + numeros2\n",
    "print(numeros3)"
   ]
  },
  {
   "cell_type": "markdown",
   "metadata": {},
   "source": [
    "6. Elimina el último elemento de la lista numeros3."
   ]
  },
  {
   "cell_type": "code",
   "execution_count": 238,
   "metadata": {},
   "outputs": [
    {
     "name": "stdout",
     "output_type": "stream",
     "text": [
      "[10, 15, 20, 25, 30, 35, 45, 22, 19, 38]\n"
     ]
    }
   ],
   "source": [
    "numeros3.pop()\n",
    "print(numeros3)"
   ]
  },
  {
   "cell_type": "markdown",
   "metadata": {},
   "source": [
    "7. Elimina el número 30 de la lista numeros3."
   ]
  },
  {
   "cell_type": "code",
   "execution_count": 239,
   "metadata": {},
   "outputs": [
    {
     "name": "stdout",
     "output_type": "stream",
     "text": [
      "[10, 15, 20, 25, 35, 45, 22, 19, 38]\n"
     ]
    }
   ],
   "source": [
    "numeros3.pop(4)\n",
    "print(numeros3)"
   ]
  },
  {
   "cell_type": "markdown",
   "metadata": {},
   "source": [
    "Parte 3: Tuplas\n",
    "1. Crea una tupla llamada colores que contenga los siguientes valores: 'rojo', 'verde', 'azul',\n",
    "'amarillo', 'morado'."
   ]
  },
  {
   "cell_type": "code",
   "execution_count": 240,
   "metadata": {},
   "outputs": [
    {
     "data": {
      "text/plain": [
       "('rojo', 'verde', 'azul', 'amarillo', 'morado')"
      ]
     },
     "execution_count": 240,
     "metadata": {},
     "output_type": "execute_result"
    }
   ],
   "source": [
    "colores = \"rojo\", \"verde\", \"azul\", \"amarillo\", \"morado\"\n",
    "colores"
   ]
  },
  {
   "cell_type": "markdown",
   "metadata": {},
   "source": [
    "2. Encuentra el índice de 'verde' en la tupla colores."
   ]
  },
  {
   "cell_type": "code",
   "execution_count": 241,
   "metadata": {},
   "outputs": [
    {
     "name": "stdout",
     "output_type": "stream",
     "text": [
      "verde\n"
     ]
    }
   ],
   "source": [
    "print(colores[1])\n"
   ]
  },
  {
   "cell_type": "markdown",
   "metadata": {},
   "source": [
    "3. ¿Cuántas veces aparece 'azul' en la tupla colores?"
   ]
  },
  {
   "cell_type": "code",
   "execution_count": 242,
   "metadata": {},
   "outputs": [
    {
     "data": {
      "text/plain": [
       "1"
      ]
     },
     "execution_count": 242,
     "metadata": {},
     "output_type": "execute_result"
    }
   ],
   "source": [
    "colores.count(\"azul\")"
   ]
  },
  {
   "cell_type": "markdown",
   "metadata": {},
   "source": [
    "4. Añade el color \"morado\" a la tupla colores. ¿Qué ha pasado? ¿Por qué? Como podríamos\n",
    "añadir el elemento \"morado\"."
   ]
  },
  {
   "cell_type": "code",
   "execution_count": 243,
   "metadata": {},
   "outputs": [
    {
     "name": "stdout",
     "output_type": "stream",
     "text": [
      "morado\n"
     ]
    }
   ],
   "source": [
    "new_color = \"morado\"\n",
    "print (new_color)\n"
   ]
  },
  {
   "cell_type": "markdown",
   "metadata": {},
   "source": [
    "Parte 4: Diccionarios\n",
    "1. Crea un diccionario llamado frutas con las siguientes parejas clave-valor:\n",
    "'manzana': 2\n",
    "'banana': 3\n",
    "'uva': 5\n",
    "'pera': 4"
   ]
  },
  {
   "cell_type": "code",
   "execution_count": 244,
   "metadata": {},
   "outputs": [
    {
     "data": {
      "text/plain": [
       "{'manzana': 2, 'banana': 3, 'uva': 5, 'pera': 4}"
      ]
     },
     "execution_count": 244,
     "metadata": {},
     "output_type": "execute_result"
    }
   ],
   "source": [
    "frutas = {\"manzana\": 2, \"banana\": 3, \"uva\": 5, \"pera\": 4}\n",
    "frutas"
   ]
  },
  {
   "cell_type": "markdown",
   "metadata": {},
   "source": [
    "2. Saca una lista de todas las frutas en el diccionario."
   ]
  },
  {
   "cell_type": "code",
   "execution_count": 245,
   "metadata": {},
   "outputs": [
    {
     "data": {
      "text/plain": [
       "['manzana', 'banana', 'uva', 'pera']"
      ]
     },
     "execution_count": 245,
     "metadata": {},
     "output_type": "execute_result"
    }
   ],
   "source": [
    "list(frutas.keys())"
   ]
  },
  {
   "cell_type": "markdown",
   "metadata": {},
   "source": [
    "3. Saca una lista de todas las cantidades en el diccionario."
   ]
  },
  {
   "cell_type": "code",
   "execution_count": 246,
   "metadata": {},
   "outputs": [
    {
     "data": {
      "text/plain": [
       "[2, 3, 5, 4]"
      ]
     },
     "execution_count": 246,
     "metadata": {},
     "output_type": "execute_result"
    }
   ],
   "source": [
    "list(frutas.values())"
   ]
  },
  {
   "cell_type": "markdown",
   "metadata": {},
   "source": [
    "4. ¿Qué cantidad de 'manzana' tenemos?. Si la clave 'manzana' no está presente, devuelve\n",
    "un mensaje diciendo \"No existe esa clave\"."
   ]
  },
  {
   "cell_type": "code",
   "execution_count": 247,
   "metadata": {},
   "outputs": [
    {
     "data": {
      "text/plain": [
       "2"
      ]
     },
     "execution_count": 247,
     "metadata": {},
     "output_type": "execute_result"
    }
   ],
   "source": [
    "frutas.get(\"manzana\")"
   ]
  },
  {
   "cell_type": "code",
   "execution_count": 248,
   "metadata": {},
   "outputs": [
    {
     "name": "stdout",
     "output_type": "stream",
     "text": [
      "True\n"
     ]
    }
   ],
   "source": [
    "print('manzana' in frutas)"
   ]
  },
  {
   "cell_type": "code",
   "execution_count": 249,
   "metadata": {},
   "outputs": [
    {
     "data": {
      "text/plain": [
       "'no existe esta fruta'"
      ]
     },
     "execution_count": 249,
     "metadata": {},
     "output_type": "execute_result"
    }
   ],
   "source": [
    "frutas.setdefault (\"naranja\", \"no existe esta fruta\")\n"
   ]
  },
  {
   "cell_type": "markdown",
   "metadata": {},
   "source": [
    "5. Agrega un nuevo par de clave-valor al diccionario frutas: 'kiwi' con una cantidad de 6."
   ]
  },
  {
   "cell_type": "code",
   "execution_count": 250,
   "metadata": {},
   "outputs": [
    {
     "name": "stdout",
     "output_type": "stream",
     "text": [
      "{'manzana': 2, 'banana': 3, 'uva': 5, 'pera': 4, 'naranja': 'no existe esta fruta', 'kiwi': '6'}\n"
     ]
    }
   ],
   "source": [
    "frutas['kiwi'] = '6'\n",
    "print(frutas)"
   ]
  },
  {
   "cell_type": "markdown",
   "metadata": {},
   "source": [
    "6. Cambia la cantidad de 'uva' a 8."
   ]
  },
  {
   "cell_type": "code",
   "execution_count": 251,
   "metadata": {},
   "outputs": [
    {
     "name": "stdout",
     "output_type": "stream",
     "text": [
      "{'manzana': 2, 'banana': 3, 'uva': 8, 'pera': 4, 'naranja': 'no existe esta fruta', 'kiwi': '6'}\n"
     ]
    }
   ],
   "source": [
    "frutas['uva'] = 8\n",
    "print(frutas)"
   ]
  },
  {
   "cell_type": "markdown",
   "metadata": {},
   "source": [
    "7. Crea un segundo diccionario llamado frutas_nuevas con las siguientes parejas clavevalor:\n",
    "'sandía': 7\n",
    "'mango': 4"
   ]
  },
  {
   "cell_type": "code",
   "execution_count": 252,
   "metadata": {},
   "outputs": [
    {
     "data": {
      "text/plain": [
       "{'sandia': 7, 'mango': 4}"
      ]
     },
     "execution_count": 252,
     "metadata": {},
     "output_type": "execute_result"
    }
   ],
   "source": [
    "frutas_nuevas = {\"sandia\": 7, \"mango\": 4}\n",
    "frutas_nuevas\n"
   ]
  },
  {
   "cell_type": "markdown",
   "metadata": {},
   "source": [
    "8. Combinar los dos diccionarios frutas_nuevas y frutas en uno nuevos llamado\n",
    "frutas_total."
   ]
  },
  {
   "cell_type": "code",
   "execution_count": 253,
   "metadata": {},
   "outputs": [
    {
     "name": "stdout",
     "output_type": "stream",
     "text": [
      "{'manzana': 2, 'banana': 3, 'uva': 8, 'pera': 4, 'naranja': 'no existe esta fruta', 'kiwi': '6'}\n",
      "{'manzana': 2, 'banana': 3, 'uva': 8, 'pera': 4, 'naranja': 'no existe esta fruta', 'kiwi': '6'}\n"
     ]
    }
   ],
   "source": [
    "frutas_total = frutas.copy()\n",
    "frutas_total.update(frutas_total)\n",
    "print(frutas_total)\n",
    "print(frutas)"
   ]
  },
  {
   "cell_type": "code",
   "execution_count": 254,
   "metadata": {},
   "outputs": [
    {
     "name": "stdout",
     "output_type": "stream",
     "text": [
      "{'manzana': 2, 'banana': 3, 'uva': 8, 'pera': 4, 'naranja': 'no existe esta fruta', 'kiwi': '6', 'sandia': 7, 'mango': 4}\n"
     ]
    }
   ],
   "source": [
    "#se modifica la lista de frutas\n",
    "frutas_total = frutas\n",
    "frutas_total.update(frutas_nuevas)\n",
    "print(frutas_total)"
   ]
  },
  {
   "cell_type": "markdown",
   "metadata": {},
   "source": [
    "9. Elimina el último par de clave-valor del diccionario fruta_total."
   ]
  },
  {
   "cell_type": "code",
   "execution_count": 255,
   "metadata": {},
   "outputs": [
    {
     "name": "stdout",
     "output_type": "stream",
     "text": [
      "{'manzana': 2, 'banana': 3, 'uva': 8, 'pera': 4, 'naranja': 'no existe esta fruta', 'kiwi': '6', 'sandia': 7}\n"
     ]
    }
   ],
   "source": [
    "frutas_total.popitem()\n",
    "print(frutas_total)\n"
   ]
  },
  {
   "cell_type": "markdown",
   "metadata": {},
   "source": [
    "10. Elimina el par de clave-valor correspondiente a la clave 'uva' del diccionario."
   ]
  },
  {
   "cell_type": "code",
   "execution_count": 256,
   "metadata": {},
   "outputs": [
    {
     "name": "stdout",
     "output_type": "stream",
     "text": [
      "{'manzana': 2, 'banana': 3, 'pera': 4, 'naranja': 'no existe esta fruta', 'kiwi': '6', 'sandia': 7}\n"
     ]
    }
   ],
   "source": [
    "frutas_total.pop(\"uva\")\n",
    "print(frutas_total)"
   ]
  },
  {
   "cell_type": "markdown",
   "metadata": {},
   "source": [
    "11. Agregar la fruta 'manzana' con una cantidad de 10 al diccionario. Si ya existe, no se\n",
    "realizarán cambios en los valores que teníamos."
   ]
  },
  {
   "cell_type": "code",
   "execution_count": 257,
   "metadata": {},
   "outputs": [
    {
     "name": "stdout",
     "output_type": "stream",
     "text": [
      "{'manzana': 2, 'banana': 3, 'pera': 4, 'naranja': 'no existe esta fruta', 'kiwi': '6', 'sandia': 7}\n"
     ]
    }
   ],
   "source": [
    "frutas_total.setdefault(\"manzana\", 10)\n",
    "print(frutas_total)"
   ]
  },
  {
   "cell_type": "markdown",
   "metadata": {},
   "source": [
    "12. Combinar métodos de listas y diccionarios:\n",
    "Obtén una lista de todas las cantidades en el diccionario y calcula suma total de las\n",
    "cantidades del diccionario frutas_total.\n",
    "Utilizando la lista creada en el apartado anterior encuentra la cantidad más grande y\n",
    "más pequeña."
   ]
  },
  {
   "cell_type": "markdown",
   "metadata": {},
   "source": [
    "Parte 5: Métodos de Sets\n",
    "1. Crea un set llamado conjunto1 con los números del 1 al 5."
   ]
  },
  {
   "cell_type": "code",
   "execution_count": 258,
   "metadata": {},
   "outputs": [
    {
     "name": "stdout",
     "output_type": "stream",
     "text": [
      "{1, 2, 3, 4, 5}\n"
     ]
    }
   ],
   "source": [
    "conjunto1 = {1, 2, 3, 4, 5}\n",
    "print(conjunto1)"
   ]
  },
  {
   "cell_type": "markdown",
   "metadata": {},
   "source": [
    "2. Crea otro set llamado conjunto2 con los números del 4 al 8."
   ]
  },
  {
   "cell_type": "code",
   "execution_count": 259,
   "metadata": {},
   "outputs": [
    {
     "name": "stdout",
     "output_type": "stream",
     "text": [
      "{4, 5, 6, 7, 8}\n"
     ]
    }
   ],
   "source": [
    "conjunto2 = {4, 5, 6, 7, 8}\n",
    "print(conjunto2)"
   ]
  },
  {
   "cell_type": "markdown",
   "metadata": {},
   "source": [
    "3. Obtén la unión de conjunto1 y conjunto2."
   ]
  },
  {
   "cell_type": "code",
   "execution_count": 260,
   "metadata": {},
   "outputs": [
    {
     "name": "stdout",
     "output_type": "stream",
     "text": [
      "{1, 2, 3, 4, 5, 6, 7, 8}\n"
     ]
    }
   ],
   "source": [
    "conjunto3 = set.union(conjunto2, conjunto1)\n",
    "print(conjunto3)"
   ]
  },
  {
   "cell_type": "markdown",
   "metadata": {},
   "source": [
    "4. Obtén la intersección de conjunto1 y conjunto2."
   ]
  },
  {
   "cell_type": "code",
   "execution_count": 261,
   "metadata": {},
   "outputs": [
    {
     "name": "stdout",
     "output_type": "stream",
     "text": [
      "{4, 5}\n"
     ]
    }
   ],
   "source": [
    "conjunto3 = set.intersection(conjunto2, conjunto1)\n",
    "print(conjunto3)"
   ]
  },
  {
   "cell_type": "markdown",
   "metadata": {},
   "source": [
    "5. Obtén los elementos que están en conjunto1 pero no en el conjunto2."
   ]
  },
  {
   "cell_type": "code",
   "execution_count": 262,
   "metadata": {},
   "outputs": [
    {
     "name": "stdout",
     "output_type": "stream",
     "text": [
      "{1, 2, 3, 6, 7, 8}\n"
     ]
    }
   ],
   "source": [
    "conjunto3 = set.symmetric_difference(conjunto2, conjunto1)\n",
    "print(conjunto3)"
   ]
  },
  {
   "cell_type": "markdown",
   "metadata": {},
   "source": [
    "Parte 6: Sentencias de Control\n",
    "\n",
    "Ejercicio 1: Evaluación de Edades:\n",
    "Escribe un programa que solicite al usuario ingresar su edad.\n",
    "Si la edad es menor de 18, muestra \"Eres menor de edad\".\n",
    "Si la edad está entre 18 y 65 (incluyendo ambos extremos), muestra \"Eres adulto\".\n",
    "Si la edad es mayor que 65, muestra \"Eres un adulto mayor\"."
   ]
  },
  {
   "cell_type": "code",
   "execution_count": 263,
   "metadata": {},
   "outputs": [
    {
     "name": "stdout",
     "output_type": "stream",
     "text": [
      "Eres menor de edad\n"
     ]
    }
   ],
   "source": [
    "años = int(input(\"¿Cuantos años tienes\"))\n",
    "\n",
    "if años <= 18:\n",
    "    print(\"Eres menor de edad\")\n",
    "elif años >= 18 and años <= 65:\n",
    "    print(\"Eres adulto\")\n",
    "else:\n",
    "    print(\"Eres adulto mayor\")"
   ]
  },
  {
   "cell_type": "markdown",
   "metadata": {},
   "source": [
    "Ejercicio 2: Determinación de Día de la Semana\n",
    "Solicita al usuario que ingrese un número del 1 al 7.\n",
    "Utilizando una serie de if-elif-else, muestra el día de la semana correspondiente\n",
    "al número ingresado. Por ejemplo, si ingresa 1, muestra \"Lunes\"."
   ]
  },
  {
   "cell_type": "code",
   "execution_count": 268,
   "metadata": {},
   "outputs": [
    {
     "name": "stdout",
     "output_type": "stream",
     "text": [
      "Jueves\n"
     ]
    }
   ],
   "source": [
    "dia_semana = int(input(\"Escribe un número del 1 al 7: \"))\n",
    "\n",
    "if dia_semana == 1:\n",
    "    print(\"Lunes\")\n",
    "elif dia_semana == 2:\n",
    "    print(\"Martes\")\n",
    "elif dia_semana == 3:\n",
    "    print(\"Miércoles\")\n",
    "elif dia_semana == 4:\n",
    "    print(\"Jueves\")\n",
    "elif dia_semana == 5:\n",
    "    print(\"Viernes\")\n",
    "elif dia_semana == 6:\n",
    "    print(\"Sábado\")\n",
    "elif dia_semana == 7:\n",
    "    print(\"Domingo\")\n",
    "else:\n",
    "    print (\"Por favor, introduzca un número del 1 al 7\")"
   ]
  },
  {
   "cell_type": "markdown",
   "metadata": {},
   "source": [
    "Ejercicio 3: Juego de Adivinanza\n",
    "Genera un número aleatorio entre 1 y 100.\n",
    "Pídele al usuario que adivine el número.\n",
    "Si el usuario adivina correctamente en el primer intento, muestra \"¡Ganaste en el\n",
    "primer intento!\".\n",
    "Si el usuario no adivina en el primer intento, bríndale pistas (mayor o menor) y\n",
    "permite que intente nuevamente. Muestra cuántos intentos le llevó al final."
   ]
  },
  {
   "cell_type": "code",
   "execution_count": null,
   "metadata": {},
   "outputs": [],
   "source": [
    "import random\n",
    "intentos = 0\n",
    "\n",
    "adivinar = input(\"Quieres adivinar un número\")\n",
    "\n",
    "while adivinar == \"si\":\n",
    "    nuevo_usuario =int (input(\"introduce un número del 1 al 100\")\n",
    "     intentos += 1)\n",
    "    "
   ]
  },
  {
   "cell_type": "markdown",
   "metadata": {},
   "source": [
    "Ejercicio 4: Juego de Adivinar la Palabra\n",
    "Elige una palabra secreta y ocúltala utilizando asteriscos, por ejemplo, \"secreto\" se\n",
    "muestra como \"*******\".\n",
    "Permite al usuario adivinar letras una por una.\n",
    "Si la letra adivinada está en la palabra secreta, muestra la palabra con las letras\n",
    "descubiertas y los asteriscos.\n",
    "Si la letra no está en la palabra secreta, resta una vida al jugador.\n",
    "El juego continúa hasta que el jugador adivine la palabra."
   ]
  },
  {
   "cell_type": "code",
   "execution_count": null,
   "metadata": {},
   "outputs": [],
   "source": [
    "numerosecreto = azar(9) + 1\n",
    "x = 5\n",
    "while x > 0 hacer\n",
    "    escribir \"ingresa un numero\"\n",
    "    leer numeros\n",
    "    "
   ]
  },
  {
   "cell_type": "code",
   "execution_count": 10,
   "metadata": {},
   "outputs": [
    {
     "name": "stdout",
     "output_type": "stream",
     "text": [
      "perro\n",
      "['p', 'e', 'r', 'r', 'o']\n",
      "['*', '*', '*', '*', '*']\n"
     ]
    }
   ],
   "source": [
    "import random\n",
    "palabra_secreta = \"perro\"\n",
    "palabra_secreta_lista = [\"p\",\"e\",\"r\",\"r\",\"o\"]\n",
    "print (palabra_secreta)\n",
    "print (palabra_secreta_lista)\n",
    "\n",
    "palabra_oculta = [\"*\"] *len(palabra_secreta)\n",
    "print (palabra_oculta)\n",
    "\n",
    "\n",
    "\n"
   ]
  },
  {
   "cell_type": "code",
   "execution_count": 11,
   "metadata": {},
   "outputs": [
    {
     "name": "stdout",
     "output_type": "stream",
     "text": [
      "perro\n",
      "Bienvenido al juego del ahorcado!\n",
      "Palabra secreta: *****\n",
      "Incorrecto. Te quedan 4 vidas.\n",
      "Palabra secreta: *****\n",
      "¡Correcto!\n",
      "Palabra secreta: p****\n",
      "¡Correcto!\n",
      "Palabra secreta: p*rr*\n",
      "Incorrecto. Te quedan 3 vidas.\n",
      "Palabra secreta: p*rr*\n",
      "¡Correcto!\n",
      "Palabra secreta: perr*\n",
      "Incorrecto. Te quedan 2 vidas.\n",
      "Palabra secreta: perr*\n",
      "Incorrecto. Te quedan 1 vidas.\n",
      "Palabra secreta: perr*\n",
      "Incorrecto. Te quedan 0 vidas.\n",
      "Palabra secreta: perr*\n",
      "¡Has perdido! La palabra secreta era: perro\n"
     ]
    }
   ],
   "source": [
    "import random\n",
    "# Definir la palabra secreta\n",
    "palabra_secreta = \"perro\"\n",
    "print (palabra_secreta)\n",
    "\n",
    "longitud_palabra = len(palabra_secreta)\n",
    "\n",
    "# Inicializar la lista de letras descubiertas\n",
    "letras_descubiertas = [\"*\" for _ in range(longitud_palabra)]\n",
    "\n",
    "# Inicializar el número de vidas\n",
    "vidas = 5\n",
    "\n",
    "# Función para mostrar la palabra oculta\n",
    "def mostrar_palabra_oculta():\n",
    "    print(\"Palabra secreta:\", \"\".join(letras_descubiertas))\n",
    "\n",
    "# Juego\n",
    "print(\"Bienvenido al juego del ahorcado!\")\n",
    "mostrar_palabra_oculta()\n",
    "\n",
    "while vidas > 0 and '*' in letras_descubiertas:\n",
    "    # Solicitar al usuario que adivine una letra\n",
    "    letra = input(\"Adivina una letra: \").lower()\n",
    "\n",
    "    # Verificar si la letra está en la palabra secreta\n",
    "    if letra in palabra_secreta:\n",
    "        print(\"¡Correcto!\")\n",
    "        # Actualizar letras descubiertas\n",
    "        for i in range(longitud_palabra):\n",
    "            if palabra_secreta[i] == letra:\n",
    "                letras_descubiertas[i] = letra\n",
    "    else:\n",
    "        vidas -= 1\n",
    "        print(f\"Incorrecto. Te quedan {vidas} vidas.\")\n",
    "\n",
    "    # Mostrar la palabra oculta actualizada\n",
    "    mostrar_palabra_oculta()\n",
    "\n",
    "# Mostrar el resultado del juego\n",
    "if '*' not in letras_descubiertas:\n",
    "    print(\"¡Felicidades! ¡Has adivinado la palabra secreta!\")\n",
    "else:\n",
    "    print(\"¡Has perdido! La palabra secreta era:\", palabra_secreta)\n"
   ]
  },
  {
   "cell_type": "code",
   "execution_count": null,
   "metadata": {},
   "outputs": [],
   "source": [
    "# Definir la palabra secreta\n",
    "palabra_secreta = \"secreto\"\n",
    "longitud_palabra = len(palabra_secreta)\n",
    "\n",
    "# Inicializar la lista de letras descubiertas\n",
    "letras_descubiertas = [\"*\" for _ in range(longitud_palabra)]\n",
    "\n",
    "# Inicializar el número de vidas\n",
    "vidas = 5\n",
    "\n",
    "# Función para mostrar la palabra oculta\n",
    "def mostrar_palabra_oculta():\n",
    "    print(\"Palabra secreta:\", \"\".join(letras_descubiertas))\n",
    "\n",
    "# Juego\n",
    "print(\"Bienvenido al juego de adivinar la palabra secreta!\")\n",
    "mostrar_palabra_oculta()\n",
    "\n",
    "while vidas > 0 and '*' in letras_descubiertas:\n",
    "    letra = input(\"Adivina una letra: \").lower()\n",
    "    acierto = False\n",
    "\n",
    "    # Verificar si la letra está en la palabra secreta\n",
    "    for i in range(longitud_palabra):\n",
    "        if letra == palabra_secreta[i]:\n",
    "            letras_descubiertas[i] = letra\n",
    "            acierto = True\n",
    "\n",
    "    # Si la letra no está en la palabra secreta, restar una vida\n",
    "    if not acierto:\n",
    "        vidas -= 1\n",
    "        print(f\"Incorrecto. Te quedan {vidas} vidas.\")\n",
    "\n",
    "    # Mostrar la palabra oculta actualizada\n",
    "    mostrar_palabra_oculta()\n",
    "\n",
    "    # Verificar si el juego ha terminado\n",
    "    if vidas <= 0:\n",
    "        print(\"¡Has perdido! La palabra secreta era:\", palabra_secreta)\n",
    "        break\n",
    "    elif '*' not in letras_descubiertas:\n",
    "        print(\"¡Felicidades! ¡Has adivinado la palabra secreta!\")\n",
    "        break\n"
   ]
  }
 ],
 "metadata": {
  "kernelspec": {
   "display_name": "base",
   "language": "python",
   "name": "python3"
  },
  "language_info": {
   "codemirror_mode": {
    "name": "ipython",
    "version": 3
   },
   "file_extension": ".py",
   "mimetype": "text/x-python",
   "name": "python",
   "nbconvert_exporter": "python",
   "pygments_lexer": "ipython3",
   "version": "3.9.7"
  }
 },
 "nbformat": 4,
 "nbformat_minor": 2
}
