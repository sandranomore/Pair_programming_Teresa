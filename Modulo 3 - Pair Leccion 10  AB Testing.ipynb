{
 "cells": [
  {
   "cell_type": "code",
   "execution_count": 1,
   "metadata": {},
   "outputs": [],
   "source": [
    "\n",
    "# importamos las librerías que necesitamos\n",
    "\n",
    "# Tratamiento de datos\n",
    "# -----------------------------------------------------------------------\n",
    "import pandas as pd\n",
    "import numpy as np\n",
    "from scipy.stats import norm\n",
    "\n",
    "# Visualización\n",
    "# ------------------------------------------------------------------------------\n",
    "import matplotlib.pyplot as plt\n",
    "import seaborn as sns\n",
    "\n",
    "# Evaluar linealidad de las relaciones entre las variables\n",
    "# y la distribución de las variables\n",
    "# ------------------------------------------------------------------------------\n",
    "import scipy.stats as stats\n",
    "from scipy.stats import chi2_contingency, ttest_ind\n",
    "from scipy.stats import chi2_contingency\n",
    "\n",
    "# Configuración\n",
    "# -----------------------------------------------------------------------\n",
    "pd.set_option('display.max_columns', None) # para poder visualizar todas las columnas de los DataFrames\n",
    "\n",
    "# Gestión de los warnings\n",
    "# -----------------------------------------------------------------------\n",
    "import warnings\n",
    "warnings.filterwarnings(\"ignore\")"
   ]
  },
  {
   "cell_type": "code",
   "execution_count": 2,
   "metadata": {},
   "outputs": [],
   "source": [
    "#  MÉTODOS DE VISUALIZACIÓN QUE NO CONOCIAMOS:\n",
    "\n",
    "# establece el estilo del fondo de las gráficas como \"whitegrid\". Las gráficas tendrán un fondo blanco con líneas de cuadrícula horizontales y verticales.\n",
    "sns.set_style(\"whitegrid\")\n",
    "\n",
    "# cambiará el esquema de colores predeterminado de Seaborn a uno más oscuro, adecuado para gráficas con fondos claros. \n",
    "sns.set_theme(style=\"dark\")\n",
    "\n",
    "# establece el estilo en Solarize_Lihgt2. \n",
    "plt.style.use('Solarize_Light2')"
   ]
  },
  {
   "cell_type": "code",
   "execution_count": 3,
   "metadata": {},
   "outputs": [
    {
     "data": {
      "text/html": [
       "<div>\n",
       "<style scoped>\n",
       "    .dataframe tbody tr th:only-of-type {\n",
       "        vertical-align: middle;\n",
       "    }\n",
       "\n",
       "    .dataframe tbody tr th {\n",
       "        vertical-align: top;\n",
       "    }\n",
       "\n",
       "    .dataframe thead th {\n",
       "        text-align: right;\n",
       "    }\n",
       "</style>\n",
       "<table border=\"1\" class=\"dataframe\">\n",
       "  <thead>\n",
       "    <tr style=\"text-align: right;\">\n",
       "      <th></th>\n",
       "      <th>Unnamed: 0</th>\n",
       "      <th>user id</th>\n",
       "      <th>test group</th>\n",
       "      <th>converted</th>\n",
       "      <th>total ads</th>\n",
       "      <th>most ads day</th>\n",
       "      <th>most ads hour</th>\n",
       "    </tr>\n",
       "  </thead>\n",
       "  <tbody>\n",
       "    <tr>\n",
       "      <th>0</th>\n",
       "      <td>0</td>\n",
       "      <td>1069124</td>\n",
       "      <td>ad</td>\n",
       "      <td>False</td>\n",
       "      <td>130</td>\n",
       "      <td>Monday</td>\n",
       "      <td>20</td>\n",
       "    </tr>\n",
       "    <tr>\n",
       "      <th>1</th>\n",
       "      <td>1</td>\n",
       "      <td>1119715</td>\n",
       "      <td>ad</td>\n",
       "      <td>False</td>\n",
       "      <td>93</td>\n",
       "      <td>Tuesday</td>\n",
       "      <td>22</td>\n",
       "    </tr>\n",
       "    <tr>\n",
       "      <th>2</th>\n",
       "      <td>2</td>\n",
       "      <td>1144181</td>\n",
       "      <td>ad</td>\n",
       "      <td>False</td>\n",
       "      <td>21</td>\n",
       "      <td>Tuesday</td>\n",
       "      <td>18</td>\n",
       "    </tr>\n",
       "    <tr>\n",
       "      <th>3</th>\n",
       "      <td>3</td>\n",
       "      <td>1435133</td>\n",
       "      <td>ad</td>\n",
       "      <td>False</td>\n",
       "      <td>355</td>\n",
       "      <td>Tuesday</td>\n",
       "      <td>10</td>\n",
       "    </tr>\n",
       "    <tr>\n",
       "      <th>4</th>\n",
       "      <td>4</td>\n",
       "      <td>1015700</td>\n",
       "      <td>ad</td>\n",
       "      <td>False</td>\n",
       "      <td>276</td>\n",
       "      <td>Friday</td>\n",
       "      <td>14</td>\n",
       "    </tr>\n",
       "  </tbody>\n",
       "</table>\n",
       "</div>"
      ],
      "text/plain": [
       "   Unnamed: 0  user id test group  converted  total ads most ads day  \\\n",
       "0           0  1069124         ad      False        130       Monday   \n",
       "1           1  1119715         ad      False         93      Tuesday   \n",
       "2           2  1144181         ad      False         21      Tuesday   \n",
       "3           3  1435133         ad      False        355      Tuesday   \n",
       "4           4  1015700         ad      False        276       Friday   \n",
       "\n",
       "   most ads hour  \n",
       "0             20  \n",
       "1             22  \n",
       "2             18  \n",
       "3             10  \n",
       "4             14  "
      ]
     },
     "execution_count": 3,
     "metadata": {},
     "output_type": "execute_result"
    }
   ],
   "source": [
    "# Lectura Fichero \n",
    "df = pd.read_csv(\"marketing_AB.csv\", sep =\",\")\n",
    "df.head()"
   ]
  },
  {
   "cell_type": "code",
   "execution_count": 4,
   "metadata": {},
   "outputs": [
    {
     "data": {
      "text/html": [
       "<div>\n",
       "<style scoped>\n",
       "    .dataframe tbody tr th:only-of-type {\n",
       "        vertical-align: middle;\n",
       "    }\n",
       "\n",
       "    .dataframe tbody tr th {\n",
       "        vertical-align: top;\n",
       "    }\n",
       "\n",
       "    .dataframe thead th {\n",
       "        text-align: right;\n",
       "    }\n",
       "</style>\n",
       "<table border=\"1\" class=\"dataframe\">\n",
       "  <thead>\n",
       "    <tr style=\"text-align: right;\">\n",
       "      <th></th>\n",
       "      <th>Unnamed: 0</th>\n",
       "      <th>user id</th>\n",
       "      <th>test group</th>\n",
       "      <th>converted</th>\n",
       "      <th>total ads</th>\n",
       "      <th>most ads day</th>\n",
       "      <th>most ads hour</th>\n",
       "    </tr>\n",
       "  </thead>\n",
       "  <tbody>\n",
       "    <tr>\n",
       "      <th>588096</th>\n",
       "      <td>588096</td>\n",
       "      <td>1278437</td>\n",
       "      <td>ad</td>\n",
       "      <td>False</td>\n",
       "      <td>1</td>\n",
       "      <td>Tuesday</td>\n",
       "      <td>23</td>\n",
       "    </tr>\n",
       "    <tr>\n",
       "      <th>588097</th>\n",
       "      <td>588097</td>\n",
       "      <td>1327975</td>\n",
       "      <td>ad</td>\n",
       "      <td>False</td>\n",
       "      <td>1</td>\n",
       "      <td>Tuesday</td>\n",
       "      <td>23</td>\n",
       "    </tr>\n",
       "    <tr>\n",
       "      <th>588098</th>\n",
       "      <td>588098</td>\n",
       "      <td>1038442</td>\n",
       "      <td>ad</td>\n",
       "      <td>False</td>\n",
       "      <td>3</td>\n",
       "      <td>Tuesday</td>\n",
       "      <td>23</td>\n",
       "    </tr>\n",
       "    <tr>\n",
       "      <th>588099</th>\n",
       "      <td>588099</td>\n",
       "      <td>1496395</td>\n",
       "      <td>ad</td>\n",
       "      <td>False</td>\n",
       "      <td>1</td>\n",
       "      <td>Tuesday</td>\n",
       "      <td>23</td>\n",
       "    </tr>\n",
       "    <tr>\n",
       "      <th>588100</th>\n",
       "      <td>588100</td>\n",
       "      <td>1237779</td>\n",
       "      <td>ad</td>\n",
       "      <td>False</td>\n",
       "      <td>1</td>\n",
       "      <td>Tuesday</td>\n",
       "      <td>23</td>\n",
       "    </tr>\n",
       "  </tbody>\n",
       "</table>\n",
       "</div>"
      ],
      "text/plain": [
       "        Unnamed: 0  user id test group  converted  total ads most ads day  \\\n",
       "588096      588096  1278437         ad      False          1      Tuesday   \n",
       "588097      588097  1327975         ad      False          1      Tuesday   \n",
       "588098      588098  1038442         ad      False          3      Tuesday   \n",
       "588099      588099  1496395         ad      False          1      Tuesday   \n",
       "588100      588100  1237779         ad      False          1      Tuesday   \n",
       "\n",
       "        most ads hour  \n",
       "588096             23  \n",
       "588097             23  \n",
       "588098             23  \n",
       "588099             23  \n",
       "588100             23  "
      ]
     },
     "execution_count": 4,
     "metadata": {},
     "output_type": "execute_result"
    }
   ],
   "source": [
    "df.tail()"
   ]
  },
  {
   "cell_type": "code",
   "execution_count": 5,
   "metadata": {},
   "outputs": [],
   "source": [
    "# una vez que tengamos nuestro DataFrame preparado con todas las columnas que queremos vamos a crear una función que no haga una exploración inicial del conjunto de datos\n",
    "def exploracion_dataframe(dataframe, columna_control):\n",
    "    \"\"\"\n",
    "    Realiza un análisis exploratorio básico de un DataFrame, mostrando información sobre duplicados,\n",
    "    valores nulos, tipos de datos, valores únicos para columnas categóricas y estadísticas descriptivas\n",
    "    para columnas categóricas y numéricas, agrupadas por la columna de control.\n",
    "\n",
    "    Parámetros:\n",
    "    - dataframe (DataFrame): El DataFrame que se va a explorar.\n",
    "    - columna_control (str): El nombre de la columna que se utilizará como control para dividir el DataFrame.\n",
    "\n",
    "    Returns: \n",
    "    No devuelve nada directamente, pero imprime en la consola la información exploratoria.\n",
    "    \"\"\"\n",
    "    \n",
    "    print(f\"Los duplicados que tenemos en el conjunto de datos son: {dataframe.duplicated().sum()}\")\n",
    "    print(\"\\n ..................... \\n\")\n",
    "    \n",
    "    \n",
    "    # generamos un DataFrame para los valores nulos\n",
    "    print(\"Los nulos que tenemos en el conjunto de datos son:\")\n",
    "    df_nulos = pd.DataFrame(dataframe.isnull().sum() / dataframe.shape[0] * 100, columns = [\"%_nulos\"])\n",
    "    display(df_nulos[df_nulos[\"%_nulos\"] > 0])\n",
    "    \n",
    "    print(\"\\n ..................... \\n\")\n",
    "    print(f\"Los tipos de las columnas son:\")\n",
    "    display(pd.DataFrame(dataframe.dtypes, columns = [\"tipo_dato\"]))\n",
    "    \n",
    "    \n",
    "    print(\"\\n ..................... \\n\")\n",
    "    print(\"Los valores que tenemos para las columnas categóricas son: \")\n",
    "    dataframe_categoricas = dataframe.select_dtypes(include = \"O\")\n",
    "    \n",
    "    for col in dataframe_categoricas.columns:\n",
    "        print(f\"La columna {col.upper()} tiene las siguientes valore únicos:\")\n",
    "        display(pd.DataFrame(dataframe[col].value_counts()).head())    \n",
    "    \n",
    "    # como estamos en un problema de A/B testing y lo que realmente nos importa es comparar entre el grupo de control y el de test, los principales estadísticos los vamos a sacar de cada una de las categorías\n",
    "    \n",
    "    for categoria in dataframe[columna_control].unique():\n",
    "        \n",
    "        dataframe_filtrado = dataframe[dataframe[columna_control] == categoria]\n",
    "    \n",
    "        print(\"\\n ..................... \\n\")\n",
    "        print(f\"Los principales estadísticos de las columnas categóricas para el {categoria.upper()} son: \")\n",
    "        display(dataframe_filtrado.describe(include = \"O\").T)\n",
    "        \n",
    "        print(\"\\n ..................... \\n\")\n",
    "        print(f\"Los principales estadísticos de las columnas numéricas para el {categoria.upper()} son: \")\n",
    "        display(dataframe_filtrado.describe().T)\n"
   ]
  },
  {
   "cell_type": "code",
   "execution_count": 6,
   "metadata": {},
   "outputs": [
    {
     "name": "stdout",
     "output_type": "stream",
     "text": [
      "Los duplicados que tenemos en el conjunto de datos son: 0\n",
      "\n",
      " ..................... \n",
      "\n",
      "Los nulos que tenemos en el conjunto de datos son:\n"
     ]
    },
    {
     "data": {
      "text/html": [
       "<div>\n",
       "<style scoped>\n",
       "    .dataframe tbody tr th:only-of-type {\n",
       "        vertical-align: middle;\n",
       "    }\n",
       "\n",
       "    .dataframe tbody tr th {\n",
       "        vertical-align: top;\n",
       "    }\n",
       "\n",
       "    .dataframe thead th {\n",
       "        text-align: right;\n",
       "    }\n",
       "</style>\n",
       "<table border=\"1\" class=\"dataframe\">\n",
       "  <thead>\n",
       "    <tr style=\"text-align: right;\">\n",
       "      <th></th>\n",
       "      <th>%_nulos</th>\n",
       "    </tr>\n",
       "  </thead>\n",
       "  <tbody>\n",
       "  </tbody>\n",
       "</table>\n",
       "</div>"
      ],
      "text/plain": [
       "Empty DataFrame\n",
       "Columns: [%_nulos]\n",
       "Index: []"
      ]
     },
     "metadata": {},
     "output_type": "display_data"
    },
    {
     "name": "stdout",
     "output_type": "stream",
     "text": [
      "\n",
      " ..................... \n",
      "\n",
      "Los tipos de las columnas son:\n"
     ]
    },
    {
     "data": {
      "text/html": [
       "<div>\n",
       "<style scoped>\n",
       "    .dataframe tbody tr th:only-of-type {\n",
       "        vertical-align: middle;\n",
       "    }\n",
       "\n",
       "    .dataframe tbody tr th {\n",
       "        vertical-align: top;\n",
       "    }\n",
       "\n",
       "    .dataframe thead th {\n",
       "        text-align: right;\n",
       "    }\n",
       "</style>\n",
       "<table border=\"1\" class=\"dataframe\">\n",
       "  <thead>\n",
       "    <tr style=\"text-align: right;\">\n",
       "      <th></th>\n",
       "      <th>tipo_dato</th>\n",
       "    </tr>\n",
       "  </thead>\n",
       "  <tbody>\n",
       "    <tr>\n",
       "      <th>Unnamed: 0</th>\n",
       "      <td>int64</td>\n",
       "    </tr>\n",
       "    <tr>\n",
       "      <th>user id</th>\n",
       "      <td>int64</td>\n",
       "    </tr>\n",
       "    <tr>\n",
       "      <th>test group</th>\n",
       "      <td>object</td>\n",
       "    </tr>\n",
       "    <tr>\n",
       "      <th>converted</th>\n",
       "      <td>bool</td>\n",
       "    </tr>\n",
       "    <tr>\n",
       "      <th>total ads</th>\n",
       "      <td>int64</td>\n",
       "    </tr>\n",
       "    <tr>\n",
       "      <th>most ads day</th>\n",
       "      <td>object</td>\n",
       "    </tr>\n",
       "    <tr>\n",
       "      <th>most ads hour</th>\n",
       "      <td>int64</td>\n",
       "    </tr>\n",
       "  </tbody>\n",
       "</table>\n",
       "</div>"
      ],
      "text/plain": [
       "              tipo_dato\n",
       "Unnamed: 0        int64\n",
       "user id           int64\n",
       "test group       object\n",
       "converted          bool\n",
       "total ads         int64\n",
       "most ads day     object\n",
       "most ads hour     int64"
      ]
     },
     "metadata": {},
     "output_type": "display_data"
    },
    {
     "name": "stdout",
     "output_type": "stream",
     "text": [
      "\n",
      " ..................... \n",
      "\n",
      "Los valores que tenemos para las columnas categóricas son: \n",
      "La columna TEST GROUP tiene las siguientes valore únicos:\n"
     ]
    },
    {
     "data": {
      "text/html": [
       "<div>\n",
       "<style scoped>\n",
       "    .dataframe tbody tr th:only-of-type {\n",
       "        vertical-align: middle;\n",
       "    }\n",
       "\n",
       "    .dataframe tbody tr th {\n",
       "        vertical-align: top;\n",
       "    }\n",
       "\n",
       "    .dataframe thead th {\n",
       "        text-align: right;\n",
       "    }\n",
       "</style>\n",
       "<table border=\"1\" class=\"dataframe\">\n",
       "  <thead>\n",
       "    <tr style=\"text-align: right;\">\n",
       "      <th></th>\n",
       "      <th>count</th>\n",
       "    </tr>\n",
       "    <tr>\n",
       "      <th>test group</th>\n",
       "      <th></th>\n",
       "    </tr>\n",
       "  </thead>\n",
       "  <tbody>\n",
       "    <tr>\n",
       "      <th>ad</th>\n",
       "      <td>564577</td>\n",
       "    </tr>\n",
       "    <tr>\n",
       "      <th>psa</th>\n",
       "      <td>23524</td>\n",
       "    </tr>\n",
       "  </tbody>\n",
       "</table>\n",
       "</div>"
      ],
      "text/plain": [
       "             count\n",
       "test group        \n",
       "ad          564577\n",
       "psa          23524"
      ]
     },
     "metadata": {},
     "output_type": "display_data"
    },
    {
     "name": "stdout",
     "output_type": "stream",
     "text": [
      "La columna MOST ADS DAY tiene las siguientes valore únicos:\n"
     ]
    },
    {
     "data": {
      "text/html": [
       "<div>\n",
       "<style scoped>\n",
       "    .dataframe tbody tr th:only-of-type {\n",
       "        vertical-align: middle;\n",
       "    }\n",
       "\n",
       "    .dataframe tbody tr th {\n",
       "        vertical-align: top;\n",
       "    }\n",
       "\n",
       "    .dataframe thead th {\n",
       "        text-align: right;\n",
       "    }\n",
       "</style>\n",
       "<table border=\"1\" class=\"dataframe\">\n",
       "  <thead>\n",
       "    <tr style=\"text-align: right;\">\n",
       "      <th></th>\n",
       "      <th>count</th>\n",
       "    </tr>\n",
       "    <tr>\n",
       "      <th>most ads day</th>\n",
       "      <th></th>\n",
       "    </tr>\n",
       "  </thead>\n",
       "  <tbody>\n",
       "    <tr>\n",
       "      <th>Friday</th>\n",
       "      <td>92608</td>\n",
       "    </tr>\n",
       "    <tr>\n",
       "      <th>Monday</th>\n",
       "      <td>87073</td>\n",
       "    </tr>\n",
       "    <tr>\n",
       "      <th>Sunday</th>\n",
       "      <td>85391</td>\n",
       "    </tr>\n",
       "    <tr>\n",
       "      <th>Thursday</th>\n",
       "      <td>82982</td>\n",
       "    </tr>\n",
       "    <tr>\n",
       "      <th>Saturday</th>\n",
       "      <td>81660</td>\n",
       "    </tr>\n",
       "  </tbody>\n",
       "</table>\n",
       "</div>"
      ],
      "text/plain": [
       "              count\n",
       "most ads day       \n",
       "Friday        92608\n",
       "Monday        87073\n",
       "Sunday        85391\n",
       "Thursday      82982\n",
       "Saturday      81660"
      ]
     },
     "metadata": {},
     "output_type": "display_data"
    },
    {
     "name": "stdout",
     "output_type": "stream",
     "text": [
      "\n",
      " ..................... \n",
      "\n",
      "Los principales estadísticos de las columnas categóricas para el AD son: \n"
     ]
    },
    {
     "data": {
      "text/html": [
       "<div>\n",
       "<style scoped>\n",
       "    .dataframe tbody tr th:only-of-type {\n",
       "        vertical-align: middle;\n",
       "    }\n",
       "\n",
       "    .dataframe tbody tr th {\n",
       "        vertical-align: top;\n",
       "    }\n",
       "\n",
       "    .dataframe thead th {\n",
       "        text-align: right;\n",
       "    }\n",
       "</style>\n",
       "<table border=\"1\" class=\"dataframe\">\n",
       "  <thead>\n",
       "    <tr style=\"text-align: right;\">\n",
       "      <th></th>\n",
       "      <th>count</th>\n",
       "      <th>unique</th>\n",
       "      <th>top</th>\n",
       "      <th>freq</th>\n",
       "    </tr>\n",
       "  </thead>\n",
       "  <tbody>\n",
       "    <tr>\n",
       "      <th>test group</th>\n",
       "      <td>564577</td>\n",
       "      <td>1</td>\n",
       "      <td>ad</td>\n",
       "      <td>564577</td>\n",
       "    </tr>\n",
       "    <tr>\n",
       "      <th>most ads day</th>\n",
       "      <td>564577</td>\n",
       "      <td>7</td>\n",
       "      <td>Friday</td>\n",
       "      <td>88805</td>\n",
       "    </tr>\n",
       "  </tbody>\n",
       "</table>\n",
       "</div>"
      ],
      "text/plain": [
       "               count unique     top    freq\n",
       "test group    564577      1      ad  564577\n",
       "most ads day  564577      7  Friday   88805"
      ]
     },
     "metadata": {},
     "output_type": "display_data"
    },
    {
     "name": "stdout",
     "output_type": "stream",
     "text": [
      "\n",
      " ..................... \n",
      "\n",
      "Los principales estadísticos de las columnas numéricas para el AD son: \n"
     ]
    },
    {
     "data": {
      "text/html": [
       "<div>\n",
       "<style scoped>\n",
       "    .dataframe tbody tr th:only-of-type {\n",
       "        vertical-align: middle;\n",
       "    }\n",
       "\n",
       "    .dataframe tbody tr th {\n",
       "        vertical-align: top;\n",
       "    }\n",
       "\n",
       "    .dataframe thead th {\n",
       "        text-align: right;\n",
       "    }\n",
       "</style>\n",
       "<table border=\"1\" class=\"dataframe\">\n",
       "  <thead>\n",
       "    <tr style=\"text-align: right;\">\n",
       "      <th></th>\n",
       "      <th>count</th>\n",
       "      <th>mean</th>\n",
       "      <th>std</th>\n",
       "      <th>min</th>\n",
       "      <th>25%</th>\n",
       "      <th>50%</th>\n",
       "      <th>75%</th>\n",
       "      <th>max</th>\n",
       "    </tr>\n",
       "  </thead>\n",
       "  <tbody>\n",
       "    <tr>\n",
       "      <th>Unnamed: 0</th>\n",
       "      <td>564577.0</td>\n",
       "      <td>2.939145e+05</td>\n",
       "      <td>168039.202368</td>\n",
       "      <td>0.0</td>\n",
       "      <td>149003.0</td>\n",
       "      <td>294089.0</td>\n",
       "      <td>438890.0</td>\n",
       "      <td>588100.0</td>\n",
       "    </tr>\n",
       "    <tr>\n",
       "      <th>user id</th>\n",
       "      <td>564577.0</td>\n",
       "      <td>1.327314e+06</td>\n",
       "      <td>188918.061566</td>\n",
       "      <td>1000000.0</td>\n",
       "      <td>1163686.0</td>\n",
       "      <td>1327362.0</td>\n",
       "      <td>1490914.0</td>\n",
       "      <td>1654483.0</td>\n",
       "    </tr>\n",
       "    <tr>\n",
       "      <th>total ads</th>\n",
       "      <td>564577.0</td>\n",
       "      <td>2.482337e+01</td>\n",
       "      <td>43.750456</td>\n",
       "      <td>1.0</td>\n",
       "      <td>4.0</td>\n",
       "      <td>13.0</td>\n",
       "      <td>27.0</td>\n",
       "      <td>2065.0</td>\n",
       "    </tr>\n",
       "    <tr>\n",
       "      <th>most ads hour</th>\n",
       "      <td>564577.0</td>\n",
       "      <td>1.447590e+01</td>\n",
       "      <td>4.841808</td>\n",
       "      <td>0.0</td>\n",
       "      <td>11.0</td>\n",
       "      <td>14.0</td>\n",
       "      <td>18.0</td>\n",
       "      <td>23.0</td>\n",
       "    </tr>\n",
       "  </tbody>\n",
       "</table>\n",
       "</div>"
      ],
      "text/plain": [
       "                  count          mean            std        min        25%  \\\n",
       "Unnamed: 0     564577.0  2.939145e+05  168039.202368        0.0   149003.0   \n",
       "user id        564577.0  1.327314e+06  188918.061566  1000000.0  1163686.0   \n",
       "total ads      564577.0  2.482337e+01      43.750456        1.0        4.0   \n",
       "most ads hour  564577.0  1.447590e+01       4.841808        0.0       11.0   \n",
       "\n",
       "                     50%        75%        max  \n",
       "Unnamed: 0      294089.0   438890.0   588100.0  \n",
       "user id        1327362.0  1490914.0  1654483.0  \n",
       "total ads           13.0       27.0     2065.0  \n",
       "most ads hour       14.0       18.0       23.0  "
      ]
     },
     "metadata": {},
     "output_type": "display_data"
    },
    {
     "name": "stdout",
     "output_type": "stream",
     "text": [
      "\n",
      " ..................... \n",
      "\n",
      "Los principales estadísticos de las columnas categóricas para el PSA son: \n"
     ]
    },
    {
     "data": {
      "text/html": [
       "<div>\n",
       "<style scoped>\n",
       "    .dataframe tbody tr th:only-of-type {\n",
       "        vertical-align: middle;\n",
       "    }\n",
       "\n",
       "    .dataframe tbody tr th {\n",
       "        vertical-align: top;\n",
       "    }\n",
       "\n",
       "    .dataframe thead th {\n",
       "        text-align: right;\n",
       "    }\n",
       "</style>\n",
       "<table border=\"1\" class=\"dataframe\">\n",
       "  <thead>\n",
       "    <tr style=\"text-align: right;\">\n",
       "      <th></th>\n",
       "      <th>count</th>\n",
       "      <th>unique</th>\n",
       "      <th>top</th>\n",
       "      <th>freq</th>\n",
       "    </tr>\n",
       "  </thead>\n",
       "  <tbody>\n",
       "    <tr>\n",
       "      <th>test group</th>\n",
       "      <td>23524</td>\n",
       "      <td>1</td>\n",
       "      <td>psa</td>\n",
       "      <td>23524</td>\n",
       "    </tr>\n",
       "    <tr>\n",
       "      <th>most ads day</th>\n",
       "      <td>23524</td>\n",
       "      <td>7</td>\n",
       "      <td>Thursday</td>\n",
       "      <td>3905</td>\n",
       "    </tr>\n",
       "  </tbody>\n",
       "</table>\n",
       "</div>"
      ],
      "text/plain": [
       "              count unique       top   freq\n",
       "test group    23524      1       psa  23524\n",
       "most ads day  23524      7  Thursday   3905"
      ]
     },
     "metadata": {},
     "output_type": "display_data"
    },
    {
     "name": "stdout",
     "output_type": "stream",
     "text": [
      "\n",
      " ..................... \n",
      "\n",
      "Los principales estadísticos de las columnas numéricas para el PSA son: \n"
     ]
    },
    {
     "data": {
      "text/html": [
       "<div>\n",
       "<style scoped>\n",
       "    .dataframe tbody tr th:only-of-type {\n",
       "        vertical-align: middle;\n",
       "    }\n",
       "\n",
       "    .dataframe tbody tr th {\n",
       "        vertical-align: top;\n",
       "    }\n",
       "\n",
       "    .dataframe thead th {\n",
       "        text-align: right;\n",
       "    }\n",
       "</style>\n",
       "<table border=\"1\" class=\"dataframe\">\n",
       "  <thead>\n",
       "    <tr style=\"text-align: right;\">\n",
       "      <th></th>\n",
       "      <th>count</th>\n",
       "      <th>mean</th>\n",
       "      <th>std</th>\n",
       "      <th>min</th>\n",
       "      <th>25%</th>\n",
       "      <th>50%</th>\n",
       "      <th>75%</th>\n",
       "      <th>max</th>\n",
       "    </tr>\n",
       "  </thead>\n",
       "  <tbody>\n",
       "    <tr>\n",
       "      <th>Unnamed: 0</th>\n",
       "      <td>23524.0</td>\n",
       "      <td>297302.795018</td>\n",
       "      <td>206995.969959</td>\n",
       "      <td>18.0</td>\n",
       "      <td>83618.25</td>\n",
       "      <td>293321.5</td>\n",
       "      <td>526178.75</td>\n",
       "      <td>588081.0</td>\n",
       "    </tr>\n",
       "    <tr>\n",
       "      <th>user id</th>\n",
       "      <td>23524.0</td>\n",
       "      <td>911761.500000</td>\n",
       "      <td>6790.938202</td>\n",
       "      <td>900000.0</td>\n",
       "      <td>905880.75</td>\n",
       "      <td>911761.5</td>\n",
       "      <td>917642.25</td>\n",
       "      <td>923523.0</td>\n",
       "    </tr>\n",
       "    <tr>\n",
       "      <th>total ads</th>\n",
       "      <td>23524.0</td>\n",
       "      <td>24.761138</td>\n",
       "      <td>42.860720</td>\n",
       "      <td>1.0</td>\n",
       "      <td>4.00</td>\n",
       "      <td>12.0</td>\n",
       "      <td>26.00</td>\n",
       "      <td>907.0</td>\n",
       "    </tr>\n",
       "    <tr>\n",
       "      <th>most ads hour</th>\n",
       "      <td>23524.0</td>\n",
       "      <td>14.304923</td>\n",
       "      <td>4.656239</td>\n",
       "      <td>0.0</td>\n",
       "      <td>11.00</td>\n",
       "      <td>14.0</td>\n",
       "      <td>18.00</td>\n",
       "      <td>23.0</td>\n",
       "    </tr>\n",
       "  </tbody>\n",
       "</table>\n",
       "</div>"
      ],
      "text/plain": [
       "                 count           mean            std       min        25%  \\\n",
       "Unnamed: 0     23524.0  297302.795018  206995.969959      18.0   83618.25   \n",
       "user id        23524.0  911761.500000    6790.938202  900000.0  905880.75   \n",
       "total ads      23524.0      24.761138      42.860720       1.0       4.00   \n",
       "most ads hour  23524.0      14.304923       4.656239       0.0      11.00   \n",
       "\n",
       "                    50%        75%       max  \n",
       "Unnamed: 0     293321.5  526178.75  588081.0  \n",
       "user id        911761.5  917642.25  923523.0  \n",
       "total ads          12.0      26.00     907.0  \n",
       "most ads hour      14.0      18.00      23.0  "
      ]
     },
     "metadata": {},
     "output_type": "display_data"
    }
   ],
   "source": [
    "exploracion_dataframe(df,\"test group\")"
   ]
  },
  {
   "cell_type": "code",
   "execution_count": 7,
   "metadata": {},
   "outputs": [],
   "source": [
    "# Otra Forma de hacerlo\n",
    "\n",
    "# Dividir los grupos A y B\n",
    "group_A = df[df[\"test group\"] == \"ad\"]  #  Grupo de control\n",
    "group_B = df[df[\"test group\"] == \"psa\"]"
   ]
  },
  {
   "cell_type": "code",
   "execution_count": 8,
   "metadata": {},
   "outputs": [
    {
     "name": "stdout",
     "output_type": "stream",
     "text": [
      "Tipos de las columnas:\n",
      "Unnamed: 0        int64\n",
      "user id           int64\n",
      "test group       object\n",
      "converted          bool\n",
      "total ads         int64\n",
      "most ads day     object\n",
      "most ads hour     int64\n",
      "dtype: object\n"
     ]
    }
   ],
   "source": [
    "# Suponiendo que 'df' es tu DataFrame\n",
    "tipos_de_columnas = df.dtypes\n",
    "\n",
    "# Imprimir los tipos de columnas\n",
    "print(\"Tipos de las columnas:\")\n",
    "print(tipos_de_columnas)"
   ]
  },
  {
   "cell_type": "code",
   "execution_count": 9,
   "metadata": {},
   "outputs": [],
   "source": [
    "def investigar_valores_nulos(dataframe, group_name):\n",
    "\n",
    "    # Filtrar el DataFrame por el grupo especificado\n",
    "    group = dataframe[dataframe[\"test group\"] == group_name]\n",
    "    \n",
    "    # Contar los valores nulos en cada columna del grupo\n",
    "    return group.isnull().sum()\n",
    "\n"
   ]
  },
  {
   "cell_type": "code",
   "execution_count": 10,
   "metadata": {},
   "outputs": [
    {
     "name": "stdout",
     "output_type": "stream",
     "text": [
      "Valores nulos en el grupo 'ad':\n",
      "Unnamed: 0       0\n",
      "user id          0\n",
      "test group       0\n",
      "converted        0\n",
      "total ads        0\n",
      "most ads day     0\n",
      "most ads hour    0\n",
      "dtype: int64\n",
      "Valores nulos en el grupo 'psa':\n",
      "Unnamed: 0       0\n",
      "user id          0\n",
      "test group       0\n",
      "converted        0\n",
      "total ads        0\n",
      "most ads day     0\n",
      "most ads hour    0\n",
      "dtype: int64\n"
     ]
    }
   ],
   "source": [
    "# Llamar a la función para investigar valores nulos en el grupo \"ad\"\n",
    "valores_nulos_ad = investigar_valores_nulos(df, \"ad\")\n",
    "print(f\"Valores nulos en el grupo 'ad':\\n{valores_nulos_ad}\")\n",
    "\n",
    "# Llamar a la función para investigar valores nulos en el grupo \"psa\"\n",
    "valores_nulos_psa = investigar_valores_nulos(df, \"psa\")\n",
    "print(f\"Valores nulos en el grupo 'psa':\\n{valores_nulos_psa}\")\n"
   ]
  },
  {
   "cell_type": "code",
   "execution_count": 11,
   "metadata": {},
   "outputs": [],
   "source": [
    "def eliminar_duplicados_en_grupos(dataframe, grupo_columna):\n",
    "\n",
    "    # Inicializar un DataFrame vacío para almacenar los resultados\n",
    "    df_sin_duplicados = pd.DataFrame()\n",
    "    \n",
    "    # Obtener los grupos únicos\n",
    "    grupos = dataframe[grupo_columna].unique()\n",
    "    \n",
    "    # Iterar sobre cada grupo, eliminar duplicados y concatenar los resultados\n",
    "    for grupo in grupos:\n",
    "        grupo_actual = dataframe[dataframe[grupo_columna] == grupo]\n",
    "        grupo_sin_duplicados = grupo_actual.drop_duplicates()\n",
    "        df_sin_duplicados = pd.concat([df_sin_duplicados, grupo_sin_duplicados], ignore_index=True)\n",
    "    \n",
    "    return df_sin_duplicados\n",
    "\n"
   ]
  },
  {
   "cell_type": "code",
   "execution_count": 12,
   "metadata": {},
   "outputs": [
    {
     "name": "stdout",
     "output_type": "stream",
     "text": [
      "DataFrame sin duplicados en cada grupo:\n",
      "        Unnamed: 0  user id test group  converted  total ads most ads day  \\\n",
      "0                0  1069124         ad      False        130       Monday   \n",
      "1                1  1119715         ad      False         93      Tuesday   \n",
      "2                2  1144181         ad      False         21      Tuesday   \n",
      "3                3  1435133         ad      False        355      Tuesday   \n",
      "4                4  1015700         ad      False        276       Friday   \n",
      "...            ...      ...        ...        ...        ...          ...   \n",
      "588096      588052   900959        psa      False         16      Tuesday   \n",
      "588097      588063   902828        psa      False          3      Tuesday   \n",
      "588098      588066   914578        psa      False          1      Tuesday   \n",
      "588099      588069   909042        psa      False          6      Tuesday   \n",
      "588100      588081   904721        psa      False         16      Tuesday   \n",
      "\n",
      "        most ads hour  \n",
      "0                  20  \n",
      "1                  22  \n",
      "2                  18  \n",
      "3                  10  \n",
      "4                  14  \n",
      "...               ...  \n",
      "588096             22  \n",
      "588097             22  \n",
      "588098             22  \n",
      "588099             22  \n",
      "588100             23  \n",
      "\n",
      "[588101 rows x 7 columns]\n"
     ]
    }
   ],
   "source": [
    "# Llamar a la función para eliminar duplicados en cada grupo\n",
    "df_sin_duplicados = eliminar_duplicados_en_grupos(df, \"test group\")\n",
    "\n",
    "# Imprimir el DataFrame resultante sin duplicados\n",
    "print(\"DataFrame sin duplicados en cada grupo:\")\n",
    "print(df_sin_duplicados)\n"
   ]
  },
  {
   "cell_type": "code",
   "execution_count": 13,
   "metadata": {},
   "outputs": [],
   "source": [
    "def valores_columnas_categoricas(dataframe, grupo_columna, grupo_A_nombre, grupo_B_nombre):\n",
    "\n",
    "    valores_categoricos = {}\n",
    "    \n",
    "    # Función para obtener valores únicos y su conteo\n",
    "    def obtener_valores_y_conteo(grupo):\n",
    "        valores_unicos = grupo[columna].value_counts().index.tolist()\n",
    "        conteo = grupo[columna].value_counts().tolist()\n",
    "        return valores_unicos, conteo\n",
    "    \n",
    "    # Filtrar y extraer valores únicos y conteo de columnas categóricas para grupo A\n",
    "    grupo_A = dataframe[dataframe[grupo_columna] == grupo_A_nombre]\n",
    "    for columna in grupo_A.select_dtypes(include=['object']):\n",
    "        valores_categoricos[f\"{grupo_A_nombre}_{columna}\"] = obtener_valores_y_conteo(grupo_A)\n",
    "    \n",
    "    # Filtrar y extraer valores únicos y conteo de columnas categóricas para grupo B\n",
    "    grupo_B = dataframe[dataframe[grupo_columna] == grupo_B_nombre]\n",
    "    for columna in grupo_B.select_dtypes(include=['object']):\n",
    "        valores_categoricos[f\"{grupo_B_nombre}_{columna}\"] = obtener_valores_y_conteo(grupo_B)\n",
    "    \n",
    "    return valores_categoricos\n",
    "\n",
    "\n",
    "\n"
   ]
  },
  {
   "cell_type": "code",
   "execution_count": 14,
   "metadata": {},
   "outputs": [
    {
     "name": "stdout",
     "output_type": "stream",
     "text": [
      "Valores únicos y conteo de columnas categóricas:\n",
      "ad_test group:\n",
      "   ad: 564577\n",
      "ad_most ads day:\n",
      "   Friday: 88805\n",
      "   Monday: 83571\n",
      "   Sunday: 82332\n",
      "   Thursday: 79077\n",
      "   Saturday: 78802\n",
      "   Wednesday: 77418\n",
      "   Tuesday: 74572\n",
      "psa_test group:\n",
      "   psa: 23524\n",
      "psa_most ads day:\n",
      "   Thursday: 3905\n",
      "   Friday: 3803\n",
      "   Monday: 3502\n",
      "   Wednesday: 3490\n",
      "   Sunday: 3059\n",
      "   Tuesday: 2907\n",
      "   Saturday: 2858\n"
     ]
    }
   ],
   "source": [
    "columnas_categoricas = valores_columnas_categoricas(df, \"test group\", \"ad\", \"psa\")\n",
    "\n",
    "# Imprimir los valores únicos y el conteo de columnas categóricas\n",
    "print(\"Valores únicos y conteo de columnas categóricas:\")\n",
    "for columna, (valores, conteo) in columnas_categoricas.items():\n",
    "    print(f\"{columna}:\")\n",
    "    for valor, count in zip(valores, conteo):\n",
    "        print(f\"   {valor}: {count}\")"
   ]
  },
  {
   "cell_type": "code",
   "execution_count": 15,
   "metadata": {},
   "outputs": [],
   "source": [
    "def estadisticos_columnas_numericas_por_grupo(dataframe, grupo_columna, grupos):\n",
    "    \n",
    "    estadisticos_por_grupo = {}\n",
    "    \n",
    "    for grupo_nombre in grupos:\n",
    "        # Filtrar el DataFrame por el grupo especificado\n",
    "        grupo = dataframe[dataframe[grupo_columna] == grupo_nombre]\n",
    "        \n",
    "        # Obtener estadísticos descriptivos de las columnas numéricas\n",
    "        estadisticos = grupo.describe()\n",
    "        \n",
    "        # Transponer el DataFrame de estadísticos para una mejor visualización\n",
    "        estadisticos_transpuesto = estadisticos.T\n",
    "        \n",
    "        # Agregar estadísticos al diccionario\n",
    "        estadisticos_por_grupo[grupo_nombre] = estadisticos_transpuesto\n",
    "    \n",
    "    return estadisticos_por_grupo\n",
    "\n"
   ]
  },
  {
   "cell_type": "code",
   "execution_count": 16,
   "metadata": {},
   "outputs": [
    {
     "name": "stdout",
     "output_type": "stream",
     "text": [
      "Principales estadísticos de las columnas numéricas para el grupo ad:\n",
      "                  count          mean            std        min        25%  \\\n",
      "Unnamed: 0     564577.0  2.939145e+05  168039.202368        0.0   149003.0   \n",
      "user id        564577.0  1.327314e+06  188918.061566  1000000.0  1163686.0   \n",
      "total ads      564577.0  2.482337e+01      43.750456        1.0        4.0   \n",
      "most ads hour  564577.0  1.447590e+01       4.841808        0.0       11.0   \n",
      "\n",
      "                     50%        75%        max  \n",
      "Unnamed: 0      294089.0   438890.0   588100.0  \n",
      "user id        1327362.0  1490914.0  1654483.0  \n",
      "total ads           13.0       27.0     2065.0  \n",
      "most ads hour       14.0       18.0       23.0  \n",
      "\n",
      "Principales estadísticos de las columnas numéricas para el grupo psa:\n",
      "                 count           mean            std       min        25%  \\\n",
      "Unnamed: 0     23524.0  297302.795018  206995.969959      18.0   83618.25   \n",
      "user id        23524.0  911761.500000    6790.938202  900000.0  905880.75   \n",
      "total ads      23524.0      24.761138      42.860720       1.0       4.00   \n",
      "most ads hour  23524.0      14.304923       4.656239       0.0      11.00   \n",
      "\n",
      "                    50%        75%       max  \n",
      "Unnamed: 0     293321.5  526178.75  588081.0  \n",
      "user id        911761.5  917642.25  923523.0  \n",
      "total ads          12.0      26.00     907.0  \n",
      "most ads hour      14.0      18.00      23.0  \n",
      "\n"
     ]
    }
   ],
   "source": [
    "\n",
    "# Definir la lista de grupos\n",
    "grupos = [\"ad\", \"psa\"]\n",
    "\n",
    "# Llamar a la función para obtener estadísticos de columnas numéricas para cada grupo\n",
    "estadisticos_por_grupo = estadisticos_columnas_numericas_por_grupo(df, \"test group\", grupos)\n",
    "\n",
    "# Imprimir los estadísticos para cada grupo\n",
    "for grupo, estadisticos in estadisticos_por_grupo.items():\n",
    "    print(f\"Principales estadísticos de las columnas numéricas para el grupo {grupo}:\")\n",
    "    print(estadisticos)\n",
    "    print()  # Para separar los resultados de cada grupo"
   ]
  },
  {
   "cell_type": "code",
   "execution_count": 17,
   "metadata": {},
   "outputs": [],
   "source": [
    "#Planteamiento de las hipótesis: \n",
    "\n",
    "#Hipótesis nula (H0): No hay diferencia significativa en la tasa de conversión entre los grupos de prueba \"ad\" y \"psa\".\n",
    "\n",
    "#Hipótesis alternativa (H1): Existe una diferencia significativa en la tasa de conversión entre los grupos de prueba \"ad\" y \"psa\".z"
   ]
  },
  {
   "cell_type": "code",
   "execution_count": 18,
   "metadata": {},
   "outputs": [
    {
     "name": "stdout",
     "output_type": "stream",
     "text": [
      "Tasa de conversión para el grupo 'ad': 2.55%\n",
      "Tasa de conversión para el grupo 'psa': 1.79%\n"
     ]
    }
   ],
   "source": [
    "#Calculo de la tasa de conversion:\n",
    "# Calcular la tasa de conversión para el grupo A (\"ad\")\n",
    "converted_A = group_A[\"converted\"].sum()\n",
    "total_users_A = len(group_A)\n",
    "conversion_rate_A = converted_A / total_users_A\n",
    "\n",
    "print(f\"Tasa de conversión para el grupo 'ad': {conversion_rate_A:.2%}\")\n",
    "\n",
    "# Calcular la tasa de conversión para el grupo B (\"psa\")\n",
    "converted_B = group_B[\"converted\"].sum()\n",
    "total_users_B = len(group_B)\n",
    "conversion_rate_B = converted_B / total_users_B\n",
    "\n",
    "print(f\"Tasa de conversión para el grupo 'psa': {conversion_rate_B:.2%}\")"
   ]
  },
  {
   "cell_type": "code",
   "execution_count": 19,
   "metadata": {},
   "outputs": [
    {
     "name": "stdout",
     "output_type": "stream",
     "text": [
      "\n",
      "Prueba de hipótesis utilizando la prueba t de Student:\n",
      "Estadístico t: 7.37040597428566\n",
      "Valor p: 1.7033052627831264e-13\n",
      "Conclusión: Se rechaza la hipótesis nula (H0). Existe una diferencia significativa en las tasas de conversión entre los grupos 'ad' y 'psa'.\n"
     ]
    }
   ],
   "source": [
    "\n",
    "# Realizar la prueba t de Student para muestras independientes\n",
    "t_statistic, p_value = stats.ttest_ind(group_A[\"converted\"], group_B[\"converted\"], equal_var=True)\n",
    "\n",
    "# Imprimir los resultados de la prueba de hipótesis\n",
    "print(\"\\nPrueba de hipótesis utilizando la prueba t de Student:\")\n",
    "print(f\"Estadístico t: {t_statistic}\")\n",
    "print(f\"Valor p: {p_value}\")\n",
    "\n",
    "# Interpretación del valor p\n",
    "alpha = 0.05  # Nivel de significancia\n",
    "if p_value < alpha:\n",
    "    print(\"Conclusión: Se rechaza la hipótesis nula (H0). Existe una diferencia significativa en las tasas de conversión entre los grupos 'ad' y 'psa'.\")\n",
    "else:\n",
    "    print(\"Conclusión: No se puede rechazar la hipótesis nula (H1). No hay suficiente evidencia para concluir que existe una diferencia significativa en las tasas de conversión entre los grupos 'ad' y 'psa'.\")\n"
   ]
  },
  {
   "cell_type": "code",
   "execution_count": 33,
   "metadata": {},
   "outputs": [
    {
     "data": {
      "text/plain": [
       "(54.005823883685245,\n",
       " 1.9989623063390075e-13,\n",
       " 1,\n",
       " array([[550327.71899045,  14249.28100955],\n",
       "        [ 22930.28100955,    593.71899045]]))"
      ]
     },
     "execution_count": 33,
     "metadata": {},
     "output_type": "execute_result"
    }
   ],
   "source": [
    "\n",
    "\n",
    "# tabla de contigencia\n",
    "contingency_table = pd.crosstab(df['test group'], df['converted'])\n",
    "\n",
    "# test de p-value\n",
    "chi2, p, dof, expected = chi2_contingency(contingency_table)\n",
    "\n",
    "chi2, p, dof, expected\n"
   ]
  },
  {
   "cell_type": "code",
   "execution_count": 31,
   "metadata": {},
   "outputs": [
    {
     "name": "stdout",
     "output_type": "stream",
     "text": [
      "Hay una diferencia significativa en las tasas de clics entre el Grupo de Control y el Grupo de Prueba.\n",
      "\n",
      " ---------- \n",
      "\n",
      "\n",
      "          Los resultados sugieren que existe evidencia estadística para afirmar que las medias de las muestras son distintas. \n",
      "          Por lo tanto, nuestro nuevo sistema tiene los efectos deseados y deberíamos cambiar la nueva versión de anuncios   \n",
      "          \n"
     ]
    }
   ],
   "source": [
    "# Imprimir el resultado de la prueba\n",
    "alpha = 0.05\n",
    "if p_value < alpha:\n",
    "    print(\"Hay una diferencia significativa en las tasas de clics entre el Grupo de Control y el Grupo de Prueba.\")\n",
    "    print(\"\\n ---------- \\n\")\n",
    "    print(\"\"\"\n",
    "          Los resultados sugieren que existe evidencia estadística para afirmar que las medias de las muestras son distintas. \n",
    "          Por lo tanto, nuestro nuevo sistema tiene los efectos deseados y deberíamos cambiar la nueva versión de anuncios   \n",
    "          \"\"\")\n",
    "else:\n",
    "    print(\"No hay evidencia de una diferencia significativa en las tasas de clics entre los grupos.\")\n",
    "    print(\"\\n ---------- \\n\")\n",
    "    print(\"\"\" \n",
    "          Los resultados sugieren que no existe evidencia estadística para afirmar que las medias de las muestras son distintas,\n",
    "          por lo que la nueva campaña no esta ayudando a nuestro problema. \n",
    "          \"\"\")"
   ]
  },
  {
   "cell_type": "markdown",
   "metadata": {},
   "source": [
    "## Prueba Z\n",
    "- **Hipótesis Nula (H0):** No hay diferencia significativa  entre el grupo de control y el grupo de prueba.\n",
    "\n",
    "- **Hipótesis Alternativa (H1):** Hay una diferencia significativa entre el grupo de control y el grupo de prueba.\n",
    "\n"
   ]
  },
  {
   "cell_type": "code",
   "execution_count": 21,
   "metadata": {},
   "outputs": [
    {
     "data": {
      "text/plain": [
       "(0.025546559636683747,\n",
       " 0.01785410644448223,\n",
       " 0.02523886203220195,\n",
       " 7.3700781265454145,\n",
       " 1.7053025658242404e-13)"
      ]
     },
     "execution_count": 21,
     "metadata": {},
     "output_type": "execute_result"
    }
   ],
   "source": [
    "\n",
    "# Calcular el total de registros y conversiones para cada grupo\n",
    "ad_total = df[df['test group'] == 'ad'].shape[0]\n",
    "ad_converted = df[(df['test group'] == 'ad') & (df['converted'] == True)].shape[0]\n",
    "psa_total = df[df['test group'] == 'psa'].shape[0]\n",
    "psa_converted = df[(df['test group'] == 'psa') & (df['converted'] == True)].shape[0]\n",
    "\n",
    "# Proporciones de conversión\n",
    "p1 = ad_converted / ad_total\n",
    "p2 = psa_converted / psa_total\n",
    "\n",
    "# Proporción combinada\n",
    "p_combined = (ad_converted + psa_converted) / (ad_total + psa_total)\n",
    "\n",
    "# Valor Z\n",
    "z = (p1 - p2) / np.sqrt(p_combined * (1 - p_combined) * (1 / ad_total + 1 / psa_total))\n",
    "\n",
    "# Valor p a partir del valor Z\n",
    "p_value = 2 * (1 - norm.cdf(abs(z)))\n",
    "\n",
    "p1, p2, p_combined, z, p_value\n"
   ]
  },
  {
   "cell_type": "code",
   "execution_count": 22,
   "metadata": {},
   "outputs": [],
   "source": [
    "#Si `p_value < 0.05`: Rechazamos la hipótesis nula. Hay evidencia suficiente para decir que hay una diferencia significativa entre las dos muestras."
   ]
  },
  {
   "cell_type": "code",
   "execution_count": null,
   "metadata": {},
   "outputs": [],
   "source": [
    "#Si hay una diferencia entre el ad y psa con lo cual a primera vista y teniendo en cuenta los datos de conversion se demuestra que la ad es mejor."
   ]
  },
  {
   "cell_type": "code",
   "execution_count": null,
   "metadata": {},
   "outputs": [],
   "source": [
    "#Ejercicio 2 Objetivo del experimento: Comparar la cantidad promedio de anuncios vistos por usuario entre los grupos de prueba \"ad\" y \"psa\" para determinar si el tipo de anuncio afecta la cantidad de anuncios que los usuarios ven"
   ]
  },
  {
   "cell_type": "code",
   "execution_count": 35,
   "metadata": {},
   "outputs": [
    {
     "name": "stdout",
     "output_type": "stream",
     "text": [
      "El promedio de anuncios vistos por usuario en el grupo A es: 24.823365103431417\n",
      "El promedio de anuncios vistos por usuario en el grupo B es: 24.761137561639178\n"
     ]
    }
   ],
   "source": [
    "# Calcular la media de la cantidad de anuncios vistos por usuario en el grupo 'ad'\n",
    "media_ad = df[df['test group'] == 'ad']['total ads'].mean()\n",
    "\n",
    "# Calcular la media de la cantidad de anuncios vistos por usuario en el grupo 'psa'\n",
    "media_psa = df[df['test group'] == 'psa']['total ads'].mean()\n",
    "\n",
    "print(f\"El promedio de anuncios vistos por usuario en el grupo A es: {media_ad}\")\n",
    "print(f\"El promedio de anuncios vistos por usuario en el grupo B es: {media_psa}\")"
   ]
  },
  {
   "cell_type": "code",
   "execution_count": null,
   "metadata": {},
   "outputs": [],
   "source": [
    "#Planteamiento de las hipótesis: \n",
    "\n",
    "#Hipótesis nula (H0): No hay diferencia significativa en los anuncios  vistos para ads y psa\".\n",
    "\n",
    "#Hipótesis alternativa (H1): Existe una diferencia significativa en los anuncios  vistos para ads y psa\"."
   ]
  },
  {
   "cell_type": "code",
   "execution_count": 37,
   "metadata": {},
   "outputs": [
    {
     "name": "stdout",
     "output_type": "stream",
     "text": [
      "Media de anuncios vistos en 'ad': 24.823365103431417\n",
      "Media de anuncios vistos en 'psa': 24.761137561639178\n",
      "Valor p del test t de Student: 0.8306134186810267\n",
      "\n",
      "No hay evidencia suficiente para afirmar que hay una diferencia significativa en la cantidad promedio de anuncios vistos entre los grupos.\n"
     ]
    }
   ],
   "source": [
    "# Realizar la prueba t de Student para muestras independientes\n",
    "t_statistic, p_value = ttest_ind(df[df['test group'] == 'ad']['total ads'], \n",
    "                                 df[df['test group'] == 'psa']['total ads'])\n",
    "\n",
    "# Nivel de significancia\n",
    "alpha = 0.05\n",
    "\n",
    "# Imprimir los resultados\n",
    "print(f\"Media de anuncios vistos en 'ad': {media_ad}\")\n",
    "print(f\"Media de anuncios vistos en 'psa': {media_psa}\")\n",
    "print(f\"Valor p del test t de Student: {p_value}\")\n",
    "\n",
    "# Interpretación de los resultados\n",
    "if p_value < alpha:\n",
    "    print(\"\\nHay una diferencia significativa en la cantidad promedio de anuncios vistos entre los grupos 'ad' y 'psa'.\")\n",
    "else:\n",
    "    print(\"\\nNo hay evidencia suficiente para afirmar que hay una diferencia significativa en la cantidad promedio de anuncios vistos entre los grupos.\")"
   ]
  },
  {
   "cell_type": "code",
   "execution_count": 38,
   "metadata": {},
   "outputs": [
    {
     "name": "stdout",
     "output_type": "stream",
     "text": [
      "Prueba de Wilcoxon-Mann-Whitney:\n",
      "Estadístico de prueba: 6808288222.0\n",
      "Valor p: 4.6909108547205694e-11\n",
      "\n",
      "Hay una diferencia significativa en la cantidad promedio de anuncios vistos entre los grupos 'ad' y 'psa'.\n"
     ]
    }
   ],
   "source": [
    "from scipy.stats import mannwhitneyu\n",
    "\n",
    "\n",
    "\n",
    "# Obtener las cantidades de anuncios vistos para cada grupo\n",
    "cantidad_anuncios_ad = df[df['test group'] == 'ad']['total ads']\n",
    "cantidad_anuncios_psa = df[df['test group'] == 'psa']['total ads']\n",
    "\n",
    "# Realizar la prueba de Wilcoxon-Mann-Whitney\n",
    "statistic, p_value = mannwhitneyu(cantidad_anuncios_ad, cantidad_anuncios_psa, alternative='two-sided')\n",
    "\n",
    "# Nivel de significancia\n",
    "alpha = 0.05\n",
    "\n",
    "# Imprimir los resultados\n",
    "print(f\"Prueba de Wilcoxon-Mann-Whitney:\")\n",
    "print(f\"Estadístico de prueba: {statistic}\")\n",
    "print(f\"Valor p: {p_value}\")\n",
    "\n",
    "# Interpretación de los resultados\n",
    "if p_value < alpha:\n",
    "    print(\"\\nHay una diferencia significativa en la cantidad promedio de anuncios vistos entre los grupos 'ad' y 'psa'.\")\n",
    "else:\n",
    "    print(\"\\nNo hay evidencia suficiente para afirmar que hay una diferencia significativa en la cantidad promedio de anuncios vistos entre los grupos.\")\n"
   ]
  },
  {
   "cell_type": "code",
   "execution_count": null,
   "metadata": {},
   "outputs": [],
   "source": [
    "#La prueba t de Student puede no ser adecuada si los datos no cumplen con los supuestos de normalidad, mientras que la U de Mann-Whitney es más robusta en tales casos y puede detectar diferencias basadas en la ubicación de las distribuciones, incluso si las diferencias en las medias no son significativas.\n",
    "#  la prueba de Wilcoxon-Mann-Whitney es más robusta frente a datos que no cumplen con la normalidad\n",
    "#El valor p (4.6909108547205694e-11, que es muy pequeño) es la probabilidad de observar una diferencia tan grande en los rangos entre los grupos si la hipótesis nula (que no hay diferencia entre los grupos) fuera cierta. Un valor p pequeño sugiere evidencia fuerte en contra de la hipótesis nula."
   ]
  },
  {
   "cell_type": "markdown",
   "metadata": {},
   "source": [
    " La prueba t de Student asume normalidad en los datos. Si los datos cumplen con este supuesto, la prueba t puede ser más poderosa para detectar diferencias en las medias. Sin embargo, si los datos no son normales  como parece ser en nuestro caso la prueba t puede no ser apropiada y podría dar un valor p más alto, indicando que no hay diferencia significativa.\n",
    "La prueba t se centra en las diferencias de medias, mientras que la prueba de Wilcoxon-Mann-Whitney se centra en las diferencias de la mediana. Es posible que las medias sean similares (como indicado por el valor p alto en la prueba t), pero que haya diferencias en la ubicación de las distribuciones que son detectadas por la prueba de Wilcoxon-Mann-Whitney."
   ]
  },
  {
   "cell_type": "markdown",
   "metadata": {},
   "source": [
    "El valor p extremadamente pequeño (4.6909108547205694e-11) indica que es altamente improbable que la diferencia en la cantidad de anuncios vistos entre los grupos 'ad' y 'psa' sea debida al azar, bajo la suposición de que no hay diferencia real entre los grupos.\n",
    "\n",
    "Por lo tanto, con este valor p tan pequeño, se rechaza la hipótesis nula de que no hay diferencia en la cantidad de anuncios vistos entre los grupos 'ad' y 'psa'. Esto sugiere que hay una diferencia significativa en la cantidad de anuncios vistos por usuario entre los dos grupos.\n",
    "\n",
    "Enla prueba de Wilcoxon-Mann-Whitney  proporciona una sólida de que existe una diferencia significativa en la cantidad de anuncios vistos por usuario entre los grupos 'ad' y 'psa', sin depender de la normalidad de los datos, "
   ]
  },
  {
   "cell_type": "markdown",
   "metadata": {},
   "source": [
    "En este caso específico, dado el valor p alto del test t de Student (0.8306), no podemos afirmar que haya una diferencia significativa en la cantidad promedio de anuncios vistos entre los grupos 'ad' y 'psa'. Sin embargo, es importante considerar que la prueba de Wilcoxon-Mann-Whitney mostró una diferencia significativa en términos de la ubicación de las distribuciones de los datos. Esto resalta la importancia de elegir la prueba estadística adecuada según la naturaleza de tus datos y los supuestos subyacentes."
   ]
  }
 ],
 "metadata": {
  "kernelspec": {
   "display_name": "Python 3",
   "language": "python",
   "name": "python3"
  },
  "language_info": {
   "codemirror_mode": {
    "name": "ipython",
    "version": 3
   },
   "file_extension": ".py",
   "mimetype": "text/x-python",
   "name": "python",
   "nbconvert_exporter": "python",
   "pygments_lexer": "ipython3",
   "version": "3.12.3"
  }
 },
 "nbformat": 4,
 "nbformat_minor": 2
}
