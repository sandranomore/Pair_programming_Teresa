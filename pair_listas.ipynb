{
 "cells": [
  {
   "cell_type": "code",
   "execution_count": 6,
   "metadata": {},
   "outputs": [
    {
     "name": "stdout",
     "output_type": "stream",
     "text": [
      "[2, 4, 6, 8, 2, 4, 6, 8]\n"
     ]
    }
   ],
   "source": [
    "#duplicar elementos\n",
    "lista = [2, 4, 6, 8]\n",
    "lista1 = [2, 4, 6, 8]\n",
    "lista.extend(lista1)\n",
    "print (lista)\n",
    "\n"
   ]
  },
  {
   "cell_type": "code",
   "execution_count": 11,
   "metadata": {},
   "outputs": [
    {
     "name": "stdout",
     "output_type": "stream",
     "text": [
      "[[1, 2, 3], [4, 5, 6]]\n",
      "[[1, 2, 3, 4, 5, 6]]\n"
     ]
    }
   ],
   "source": [
    "#combinar dos listas\n",
    "lista1=[1, 2, 3]\n",
    "lista2=[4, 5, 6]\n",
    "total1=[lista1,lista2]\n",
    "print(total1)\n",
    "\n",
    "lista1=[1, 2, 3]\n",
    "lista2=[4, 5, 6]\n",
    "total1=[lista1 + lista2]\n",
    "print(total1)"
   ]
  },
  {
   "cell_type": "code",
   "execution_count": 12,
   "metadata": {},
   "outputs": [
    {
     "name": "stdout",
     "output_type": "stream",
     "text": [
      "21\n"
     ]
    }
   ],
   "source": [
    "#calcular la suma de una lista de números\n",
    "suma=sum(lista1)+sum(lista2)\n",
    "print(suma)\n"
   ]
  },
  {
   "cell_type": "code",
   "execution_count": 13,
   "metadata": {},
   "outputs": [
    {
     "name": "stdout",
     "output_type": "stream",
     "text": [
      "El numero más alto es: 3\n"
     ]
    }
   ],
   "source": [
    "#encontrar el valor máximo en una lista\n",
    "maxima = max(lista1)\n",
    "print(\"El numero más alto es:\", maxima)\n"
   ]
  },
  {
   "cell_type": "code",
   "execution_count": 14,
   "metadata": {},
   "outputs": [
    {
     "name": "stdout",
     "output_type": "stream",
     "text": [
      "3\n"
     ]
    }
   ],
   "source": [
    "#calcular la cantidad de elementos de una lista\n",
    "cantidad= len(lista1)\n",
    "print(cantidad)\n"
   ]
  },
  {
   "cell_type": "code",
   "execution_count": 16,
   "metadata": {},
   "outputs": [
    {
     "name": "stdout",
     "output_type": "stream",
     "text": [
      "2\n"
     ]
    }
   ],
   "source": [
    "#encontrar el índice de un elemento en una lista\n",
    "print(lista1[1]) \n"
   ]
  },
  {
   "cell_type": "code",
   "execution_count": 17,
   "metadata": {},
   "outputs": [
    {
     "name": "stdout",
     "output_type": "stream",
     "text": [
      "1\n"
     ]
    }
   ],
   "source": [
    "#Contar ocurrencias de un elemento en una lista\n",
    "contar = lista2.count(4)\n",
    "print(contar)\n"
   ]
  },
  {
   "cell_type": "code",
   "execution_count": 19,
   "metadata": {},
   "outputs": [
    {
     "name": "stdout",
     "output_type": "stream",
     "text": [
      "[[1, 2, 3], [4, 5, 6]]\n"
     ]
    }
   ],
   "source": [
    "#Obtener una sublista de una lista\n",
    "lista3=[lista1,lista2]\n",
    "print(lista3)"
   ]
  },
  {
   "cell_type": "code",
   "execution_count": 24,
   "metadata": {},
   "outputs": [
    {
     "name": "stdout",
     "output_type": "stream",
     "text": [
      "6\n"
     ]
    }
   ],
   "source": [
    "#Obtener el último elemento de una lista\n",
    "print(lista2[-1])\n",
    "\n"
   ]
  },
  {
   "cell_type": "code",
   "execution_count": 44,
   "metadata": {},
   "outputs": [
    {
     "name": "stdout",
     "output_type": "stream",
     "text": [
      "[2, 7, 3]\n"
     ]
    }
   ],
   "source": [
    "#Reemplazar un elemento en una lista\n",
    "lista1=[1, 2, 3]\n",
    "lista2=[4, 5, 6]\n",
    "lista1.remove (1)\n",
    "lista1.insert (1, 7)\n",
    "print(lista1)\n"
   ]
  },
  {
   "cell_type": "code",
   "execution_count": 45,
   "metadata": {},
   "outputs": [
    {
     "name": "stdout",
     "output_type": "stream",
     "text": [
      "[6, 5, 4]\n"
     ]
    }
   ],
   "source": [
    "#Obtener una lista inversa\n",
    "lista2=[4, 5, 6]\n",
    "lista2.reverse()\n",
    "print(lista2)\n"
   ]
  },
  {
   "cell_type": "code",
   "execution_count": 46,
   "metadata": {},
   "outputs": [
    {
     "name": "stdout",
     "output_type": "stream",
     "text": [
      "[4, 5, 6]\n"
     ]
    }
   ],
   "source": [
    "#Ordenar una lista en orden ascendente\n",
    "lista2=[4, 5, 6]\n",
    "lista2.sort()\n",
    "print(lista2)\n"
   ]
  }
 ],
 "metadata": {
  "kernelspec": {
   "display_name": "base",
   "language": "python",
   "name": "python3"
  },
  "language_info": {
   "codemirror_mode": {
    "name": "ipython",
    "version": 3
   },
   "file_extension": ".py",
   "mimetype": "text/x-python",
   "name": "python",
   "nbconvert_exporter": "python",
   "pygments_lexer": "ipython3",
   "version": "3.9.7"
  }
 },
 "nbformat": 4,
 "nbformat_minor": 2
}
